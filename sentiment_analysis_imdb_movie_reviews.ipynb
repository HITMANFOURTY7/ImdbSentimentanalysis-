{
  "metadata": {
    "kernelspec": {
      "language": "python",
      "display_name": "Python 3",
      "name": "python3"
    },
    "language_info": {
      "name": "python",
      "version": "3.10.10",
      "mimetype": "text/x-python",
      "codemirror_mode": {
        "name": "ipython",
        "version": 3
      },
      "pygments_lexer": "ipython3",
      "nbconvert_exporter": "python",
      "file_extension": ".py"
    },
    "colab": {
      "provenance": []
    }
  },
  "nbformat_minor": 0,
  "nbformat": 4,
  "cells": [
    {
      "cell_type": "code",
      "source": [
        "import re\n",
        "import nltk\n",
        "import numpy as np # linear algebra\n",
        "import pandas as pd # data processing, CSV file I/O (e.g. pd.read_csv)\n",
        "import tensorflow as tf\n",
        "import matplotlib.pyplot as plt\n",
        "from nltk.corpus import stopwords\n",
        "from tensorflow.keras.models import Sequential\n",
        "from sklearn.model_selection import train_test_split\n",
        "from tensorflow.keras.preprocessing.text import Tokenizer\n",
        "from tensorflow.keras.layers import Activation,Dense, Dropout\n",
        "from tensorflow.keras.preprocessing.sequence import pad_sequences\n",
        "from tensorflow.keras.layers import Flatten,GlobalMaxPooling1D,Conv1D, Embedding, LSTM"
      ],
      "metadata": {
        "_uuid": "8f2839f25d086af736a60e9eeb907d3b93b6e0e5",
        "_cell_guid": "b1076dfc-b9ad-4769-8c92-a6c4dae69d19",
        "execution": {
          "iopub.status.busy": "2023-05-22T13:30:08.976321Z",
          "iopub.execute_input": "2023-05-22T13:30:08.977139Z",
          "iopub.status.idle": "2023-05-22T13:30:18.478281Z",
          "shell.execute_reply.started": "2023-05-22T13:30:08.977098Z",
          "shell.execute_reply": "2023-05-22T13:30:18.477307Z"
        },
        "trusted": true,
        "id": "ZSBPxqzPI09U"
      },
      "execution_count": 3,
      "outputs": []
    },
    {
      "cell_type": "code",
      "source": [
        "df = pd.read_csv(\"https://raw.githubusercontent.com/HITMANFOURTY7/ImdbSentimentanalysis-/main/IMDB%20Dataset.csv\")\n",
        "df.head()"
      ],
      "metadata": {
        "execution": {
          "iopub.status.busy": "2023-05-22T13:30:18.480313Z",
          "iopub.execute_input": "2023-05-22T13:30:18.481064Z",
          "iopub.status.idle": "2023-05-22T13:30:20.048274Z",
          "shell.execute_reply.started": "2023-05-22T13:30:18.481028Z",
          "shell.execute_reply": "2023-05-22T13:30:20.047255Z"
        },
        "trusted": true,
        "colab": {
          "base_uri": "https://localhost:8080/",
          "height": 206
        },
        "id": "wFK-1ig3I09W",
        "outputId": "8437582c-ed78-4c12-aa69-44455d461ca4"
      },
      "execution_count": 4,
      "outputs": [
        {
          "output_type": "execute_result",
          "data": {
            "text/plain": [
              "                                              review sentiment\n",
              "0  One of the other reviewers has mentioned that ...  positive\n",
              "1  A wonderful little production. <br /><br />The...  positive\n",
              "2  I thought this was a wonderful way to spend ti...  positive\n",
              "3  Basically there's a family where a little boy ...  negative\n",
              "4  Petter Mattei's \"Love in the Time of Money\" is...  positive"
            ],
            "text/html": [
              "\n",
              "  <div id=\"df-17a2a744-c2d1-411f-8729-5c3330903f0b\" class=\"colab-df-container\">\n",
              "    <div>\n",
              "<style scoped>\n",
              "    .dataframe tbody tr th:only-of-type {\n",
              "        vertical-align: middle;\n",
              "    }\n",
              "\n",
              "    .dataframe tbody tr th {\n",
              "        vertical-align: top;\n",
              "    }\n",
              "\n",
              "    .dataframe thead th {\n",
              "        text-align: right;\n",
              "    }\n",
              "</style>\n",
              "<table border=\"1\" class=\"dataframe\">\n",
              "  <thead>\n",
              "    <tr style=\"text-align: right;\">\n",
              "      <th></th>\n",
              "      <th>review</th>\n",
              "      <th>sentiment</th>\n",
              "    </tr>\n",
              "  </thead>\n",
              "  <tbody>\n",
              "    <tr>\n",
              "      <th>0</th>\n",
              "      <td>One of the other reviewers has mentioned that ...</td>\n",
              "      <td>positive</td>\n",
              "    </tr>\n",
              "    <tr>\n",
              "      <th>1</th>\n",
              "      <td>A wonderful little production. &lt;br /&gt;&lt;br /&gt;The...</td>\n",
              "      <td>positive</td>\n",
              "    </tr>\n",
              "    <tr>\n",
              "      <th>2</th>\n",
              "      <td>I thought this was a wonderful way to spend ti...</td>\n",
              "      <td>positive</td>\n",
              "    </tr>\n",
              "    <tr>\n",
              "      <th>3</th>\n",
              "      <td>Basically there's a family where a little boy ...</td>\n",
              "      <td>negative</td>\n",
              "    </tr>\n",
              "    <tr>\n",
              "      <th>4</th>\n",
              "      <td>Petter Mattei's \"Love in the Time of Money\" is...</td>\n",
              "      <td>positive</td>\n",
              "    </tr>\n",
              "  </tbody>\n",
              "</table>\n",
              "</div>\n",
              "    <div class=\"colab-df-buttons\">\n",
              "\n",
              "  <div class=\"colab-df-container\">\n",
              "    <button class=\"colab-df-convert\" onclick=\"convertToInteractive('df-17a2a744-c2d1-411f-8729-5c3330903f0b')\"\n",
              "            title=\"Convert this dataframe to an interactive table.\"\n",
              "            style=\"display:none;\">\n",
              "\n",
              "  <svg xmlns=\"http://www.w3.org/2000/svg\" height=\"24px\" viewBox=\"0 -960 960 960\">\n",
              "    <path d=\"M120-120v-720h720v720H120Zm60-500h600v-160H180v160Zm220 220h160v-160H400v160Zm0 220h160v-160H400v160ZM180-400h160v-160H180v160Zm440 0h160v-160H620v160ZM180-180h160v-160H180v160Zm440 0h160v-160H620v160Z\"/>\n",
              "  </svg>\n",
              "    </button>\n",
              "\n",
              "  <style>\n",
              "    .colab-df-container {\n",
              "      display:flex;\n",
              "      gap: 12px;\n",
              "    }\n",
              "\n",
              "    .colab-df-convert {\n",
              "      background-color: #E8F0FE;\n",
              "      border: none;\n",
              "      border-radius: 50%;\n",
              "      cursor: pointer;\n",
              "      display: none;\n",
              "      fill: #1967D2;\n",
              "      height: 32px;\n",
              "      padding: 0 0 0 0;\n",
              "      width: 32px;\n",
              "    }\n",
              "\n",
              "    .colab-df-convert:hover {\n",
              "      background-color: #E2EBFA;\n",
              "      box-shadow: 0px 1px 2px rgba(60, 64, 67, 0.3), 0px 1px 3px 1px rgba(60, 64, 67, 0.15);\n",
              "      fill: #174EA6;\n",
              "    }\n",
              "\n",
              "    .colab-df-buttons div {\n",
              "      margin-bottom: 4px;\n",
              "    }\n",
              "\n",
              "    [theme=dark] .colab-df-convert {\n",
              "      background-color: #3B4455;\n",
              "      fill: #D2E3FC;\n",
              "    }\n",
              "\n",
              "    [theme=dark] .colab-df-convert:hover {\n",
              "      background-color: #434B5C;\n",
              "      box-shadow: 0px 1px 3px 1px rgba(0, 0, 0, 0.15);\n",
              "      filter: drop-shadow(0px 1px 2px rgba(0, 0, 0, 0.3));\n",
              "      fill: #FFFFFF;\n",
              "    }\n",
              "  </style>\n",
              "\n",
              "    <script>\n",
              "      const buttonEl =\n",
              "        document.querySelector('#df-17a2a744-c2d1-411f-8729-5c3330903f0b button.colab-df-convert');\n",
              "      buttonEl.style.display =\n",
              "        google.colab.kernel.accessAllowed ? 'block' : 'none';\n",
              "\n",
              "      async function convertToInteractive(key) {\n",
              "        const element = document.querySelector('#df-17a2a744-c2d1-411f-8729-5c3330903f0b');\n",
              "        const dataTable =\n",
              "          await google.colab.kernel.invokeFunction('convertToInteractive',\n",
              "                                                    [key], {});\n",
              "        if (!dataTable) return;\n",
              "\n",
              "        const docLinkHtml = 'Like what you see? Visit the ' +\n",
              "          '<a target=\"_blank\" href=https://colab.research.google.com/notebooks/data_table.ipynb>data table notebook</a>'\n",
              "          + ' to learn more about interactive tables.';\n",
              "        element.innerHTML = '';\n",
              "        dataTable['output_type'] = 'display_data';\n",
              "        await google.colab.output.renderOutput(dataTable, element);\n",
              "        const docLink = document.createElement('div');\n",
              "        docLink.innerHTML = docLinkHtml;\n",
              "        element.appendChild(docLink);\n",
              "      }\n",
              "    </script>\n",
              "  </div>\n",
              "\n",
              "\n",
              "    <div id=\"df-264bb192-f86f-4ed0-8f9c-f7c09c454011\">\n",
              "      <button class=\"colab-df-quickchart\" onclick=\"quickchart('df-264bb192-f86f-4ed0-8f9c-f7c09c454011')\"\n",
              "                title=\"Suggest charts\"\n",
              "                style=\"display:none;\">\n",
              "\n",
              "<svg xmlns=\"http://www.w3.org/2000/svg\" height=\"24px\"viewBox=\"0 0 24 24\"\n",
              "     width=\"24px\">\n",
              "    <g>\n",
              "        <path d=\"M19 3H5c-1.1 0-2 .9-2 2v14c0 1.1.9 2 2 2h14c1.1 0 2-.9 2-2V5c0-1.1-.9-2-2-2zM9 17H7v-7h2v7zm4 0h-2V7h2v10zm4 0h-2v-4h2v4z\"/>\n",
              "    </g>\n",
              "</svg>\n",
              "      </button>\n",
              "\n",
              "<style>\n",
              "  .colab-df-quickchart {\n",
              "      --bg-color: #E8F0FE;\n",
              "      --fill-color: #1967D2;\n",
              "      --hover-bg-color: #E2EBFA;\n",
              "      --hover-fill-color: #174EA6;\n",
              "      --disabled-fill-color: #AAA;\n",
              "      --disabled-bg-color: #DDD;\n",
              "  }\n",
              "\n",
              "  [theme=dark] .colab-df-quickchart {\n",
              "      --bg-color: #3B4455;\n",
              "      --fill-color: #D2E3FC;\n",
              "      --hover-bg-color: #434B5C;\n",
              "      --hover-fill-color: #FFFFFF;\n",
              "      --disabled-bg-color: #3B4455;\n",
              "      --disabled-fill-color: #666;\n",
              "  }\n",
              "\n",
              "  .colab-df-quickchart {\n",
              "    background-color: var(--bg-color);\n",
              "    border: none;\n",
              "    border-radius: 50%;\n",
              "    cursor: pointer;\n",
              "    display: none;\n",
              "    fill: var(--fill-color);\n",
              "    height: 32px;\n",
              "    padding: 0;\n",
              "    width: 32px;\n",
              "  }\n",
              "\n",
              "  .colab-df-quickchart:hover {\n",
              "    background-color: var(--hover-bg-color);\n",
              "    box-shadow: 0 1px 2px rgba(60, 64, 67, 0.3), 0 1px 3px 1px rgba(60, 64, 67, 0.15);\n",
              "    fill: var(--button-hover-fill-color);\n",
              "  }\n",
              "\n",
              "  .colab-df-quickchart-complete:disabled,\n",
              "  .colab-df-quickchart-complete:disabled:hover {\n",
              "    background-color: var(--disabled-bg-color);\n",
              "    fill: var(--disabled-fill-color);\n",
              "    box-shadow: none;\n",
              "  }\n",
              "\n",
              "  .colab-df-spinner {\n",
              "    border: 2px solid var(--fill-color);\n",
              "    border-color: transparent;\n",
              "    border-bottom-color: var(--fill-color);\n",
              "    animation:\n",
              "      spin 1s steps(1) infinite;\n",
              "  }\n",
              "\n",
              "  @keyframes spin {\n",
              "    0% {\n",
              "      border-color: transparent;\n",
              "      border-bottom-color: var(--fill-color);\n",
              "      border-left-color: var(--fill-color);\n",
              "    }\n",
              "    20% {\n",
              "      border-color: transparent;\n",
              "      border-left-color: var(--fill-color);\n",
              "      border-top-color: var(--fill-color);\n",
              "    }\n",
              "    30% {\n",
              "      border-color: transparent;\n",
              "      border-left-color: var(--fill-color);\n",
              "      border-top-color: var(--fill-color);\n",
              "      border-right-color: var(--fill-color);\n",
              "    }\n",
              "    40% {\n",
              "      border-color: transparent;\n",
              "      border-right-color: var(--fill-color);\n",
              "      border-top-color: var(--fill-color);\n",
              "    }\n",
              "    60% {\n",
              "      border-color: transparent;\n",
              "      border-right-color: var(--fill-color);\n",
              "    }\n",
              "    80% {\n",
              "      border-color: transparent;\n",
              "      border-right-color: var(--fill-color);\n",
              "      border-bottom-color: var(--fill-color);\n",
              "    }\n",
              "    90% {\n",
              "      border-color: transparent;\n",
              "      border-bottom-color: var(--fill-color);\n",
              "    }\n",
              "  }\n",
              "</style>\n",
              "\n",
              "      <script>\n",
              "        async function quickchart(key) {\n",
              "          const quickchartButtonEl =\n",
              "            document.querySelector('#' + key + ' button');\n",
              "          quickchartButtonEl.disabled = true;  // To prevent multiple clicks.\n",
              "          quickchartButtonEl.classList.add('colab-df-spinner');\n",
              "          try {\n",
              "            const charts = await google.colab.kernel.invokeFunction(\n",
              "                'suggestCharts', [key], {});\n",
              "          } catch (error) {\n",
              "            console.error('Error during call to suggestCharts:', error);\n",
              "          }\n",
              "          quickchartButtonEl.classList.remove('colab-df-spinner');\n",
              "          quickchartButtonEl.classList.add('colab-df-quickchart-complete');\n",
              "        }\n",
              "        (() => {\n",
              "          let quickchartButtonEl =\n",
              "            document.querySelector('#df-264bb192-f86f-4ed0-8f9c-f7c09c454011 button');\n",
              "          quickchartButtonEl.style.display =\n",
              "            google.colab.kernel.accessAllowed ? 'block' : 'none';\n",
              "        })();\n",
              "      </script>\n",
              "    </div>\n",
              "\n",
              "    </div>\n",
              "  </div>\n"
            ],
            "application/vnd.google.colaboratory.intrinsic+json": {
              "type": "dataframe",
              "variable_name": "df",
              "summary": "{\n  \"name\": \"df\",\n  \"rows\": 16000,\n  \"fields\": [\n    {\n      \"column\": \"review\",\n      \"properties\": {\n        \"dtype\": \"string\",\n        \"num_unique_values\": 15956,\n        \"samples\": [\n          \"Hayao Miyazaki has no equal when it comes to using hand-drawn animation as a form of storytelling, yet often he is being compared to Walt Disney. That is just so unfair, because it becomes apparent by watching Miyazaki's films that he is the superior artist. He really has a gift of thrilling both grownups and children, and Laputa is indeed one awesome ride.<br /><br />But where can I begin to describe a movie so magical and breathtaking! Miyazaki's works have never cease to amaze me. Laputa is an adventure of a grand scale and I wonder how a film can be so packed with details and imagination. Ask yourself this question: if you are a kid dreaming of an adventure so grand in scope and so magical, what would it be like? The answer would be to strap yourself in some seat and watch Laputa, because it's truly a childhood fantasy come true. Every minute of the movie is rich and engrossing ... from the train chase to the amazing air-flying sequences... and to the wonderous sight of the floating castle itself. Not to mention the excellent score by Joe Hisaishi! Everything you ever possibly want from an adventure movie is here.\",\n          \"Why every horror director wants to imitate \\\"The Exorcist\\\" is a complete riddle to me, as William Friedkin's \\\"classic\\\" is a very overrated film and, in my opinion, not all that tense or shocking. And yet here's another clean rip-off, a Spanish one this time, that shamelessly repeats the story of a young girl that gets possessed by pure evil and turns against her own family. Paul Naschy (who I must admit looks quite hot here) plays the honorable priest who gets approached by John Gibson because his sister Leila's behavior changed drastically since she met her new boyfriend. At first the priest doesn't believe it but when John's body is discovered with its neck twisted, Leila's demonic behavior becomes more noticeable... \\\"Exorcism\\\" is not only very unoriginal, it's also an insufferably boring film! Here Naschy and director Juan Bosch had an open opportunity to make a religiously themed exploitation flick full of shocks and gore, and yet the result is a tame and overall bloodless drama that'll nearly put you to sleep! The last twenty minutes contain some atmospheric moments, albeit very stupid, and there's quite a lot of stylishly filmed female nudity and sleaze. The absolute lack of budget is no real excuse since Paul Naschy already proved before that he has enough imagination to make up for a shortage in money. This is just an awful film, end of story. Other European \\\"The Excorcist\\\" rip-offs are \\\"The Antichrist\\\" and \\\"Beyond the Door\\\" and they suck as well!\",\n          \"The only reason I watched the movie till the end was the \\\"hope\\\" to see something interesting. The movie is really bad and the performance of the girl it is really, really bad, honestly, I am not a movie critic neither an expert but you just need common sense to notice that this work it is incredibly bad.<br /><br />The first thing that came to my mind as soon as she started to talk was: \\\"She has an affair with Willem Dafoe and he accepted to help her with the screenplay and appear in her movie since she is the brilliant director\\\"... surprise, surprise, next day after I watched the film I found out on internet that Giada Colagrande is his wife. Awful story and terrible performance.\"\n        ],\n        \"semantic_type\": \"\",\n        \"description\": \"\"\n      }\n    },\n    {\n      \"column\": \"sentiment\",\n      \"properties\": {\n        \"dtype\": \"category\",\n        \"num_unique_values\": 2,\n        \"samples\": [\n          \"negative\",\n          \"positive\"\n        ],\n        \"semantic_type\": \"\",\n        \"description\": \"\"\n      }\n    }\n  ]\n}"
            }
          },
          "metadata": {},
          "execution_count": 4
        }
      ]
    },
    {
      "cell_type": "code",
      "source": [
        "df.info()"
      ],
      "metadata": {
        "execution": {
          "iopub.status.busy": "2023-05-22T13:30:25.928276Z",
          "iopub.execute_input": "2023-05-22T13:30:25.929243Z",
          "iopub.status.idle": "2023-05-22T13:30:25.986519Z",
          "shell.execute_reply.started": "2023-05-22T13:30:25.929207Z",
          "shell.execute_reply": "2023-05-22T13:30:25.985502Z"
        },
        "trusted": true,
        "colab": {
          "base_uri": "https://localhost:8080/"
        },
        "id": "JhW5XswrI09W",
        "outputId": "a6fcd17f-c8e7-45e7-dbf5-0e9ee8651b47"
      },
      "execution_count": 5,
      "outputs": [
        {
          "output_type": "stream",
          "name": "stdout",
          "text": [
            "<class 'pandas.core.frame.DataFrame'>\n",
            "RangeIndex: 16000 entries, 0 to 15999\n",
            "Data columns (total 2 columns):\n",
            " #   Column     Non-Null Count  Dtype \n",
            "---  ------     --------------  ----- \n",
            " 0   review     16000 non-null  object\n",
            " 1   sentiment  16000 non-null  object\n",
            "dtypes: object(2)\n",
            "memory usage: 250.1+ KB\n"
          ]
        }
      ]
    },
    {
      "cell_type": "markdown",
      "source": [
        ">Checking for null values:"
      ],
      "metadata": {
        "id": "L6GlybweI09X"
      }
    },
    {
      "cell_type": "code",
      "source": [
        "df.isnull().sum()"
      ],
      "metadata": {
        "execution": {
          "iopub.status.busy": "2023-05-22T13:30:27.496902Z",
          "iopub.execute_input": "2023-05-22T13:30:27.497311Z",
          "iopub.status.idle": "2023-05-22T13:30:27.538850Z",
          "shell.execute_reply.started": "2023-05-22T13:30:27.497278Z",
          "shell.execute_reply": "2023-05-22T13:30:27.537824Z"
        },
        "trusted": true,
        "colab": {
          "base_uri": "https://localhost:8080/",
          "height": 147
        },
        "id": "KjvVmG6iI09Y",
        "outputId": "e78155cb-11a4-4f8f-ac02-ffba055daebe"
      },
      "execution_count": 6,
      "outputs": [
        {
          "output_type": "execute_result",
          "data": {
            "text/plain": [
              "review       0\n",
              "sentiment    0\n",
              "dtype: int64"
            ],
            "text/html": [
              "<div>\n",
              "<style scoped>\n",
              "    .dataframe tbody tr th:only-of-type {\n",
              "        vertical-align: middle;\n",
              "    }\n",
              "\n",
              "    .dataframe tbody tr th {\n",
              "        vertical-align: top;\n",
              "    }\n",
              "\n",
              "    .dataframe thead th {\n",
              "        text-align: right;\n",
              "    }\n",
              "</style>\n",
              "<table border=\"1\" class=\"dataframe\">\n",
              "  <thead>\n",
              "    <tr style=\"text-align: right;\">\n",
              "      <th></th>\n",
              "      <th>0</th>\n",
              "    </tr>\n",
              "  </thead>\n",
              "  <tbody>\n",
              "    <tr>\n",
              "      <th>review</th>\n",
              "      <td>0</td>\n",
              "    </tr>\n",
              "    <tr>\n",
              "      <th>sentiment</th>\n",
              "      <td>0</td>\n",
              "    </tr>\n",
              "  </tbody>\n",
              "</table>\n",
              "</div><br><label><b>dtype:</b> int64</label>"
            ]
          },
          "metadata": {},
          "execution_count": 6
        }
      ]
    },
    {
      "cell_type": "code",
      "source": [
        "import seaborn as sns\n",
        "plt.style.use(\"ggplot\")\n",
        "sns.countplot(data = df, x = df[\"sentiment\"])\n",
        "plt.show()"
      ],
      "metadata": {
        "execution": {
          "iopub.status.busy": "2023-05-22T13:30:27.997861Z",
          "iopub.execute_input": "2023-05-22T13:30:27.998422Z",
          "iopub.status.idle": "2023-05-22T13:30:28.415654Z",
          "shell.execute_reply.started": "2023-05-22T13:30:27.998391Z",
          "shell.execute_reply": "2023-05-22T13:30:28.414735Z"
        },
        "trusted": true,
        "colab": {
          "base_uri": "https://localhost:8080/",
          "height": 453
        },
        "id": "Kb4VcbLuI09Y",
        "outputId": "b6254b83-399a-4499-b440-0821826c771d"
      },
      "execution_count": 7,
      "outputs": [
        {
          "output_type": "display_data",
          "data": {
            "text/plain": [
              "<Figure size 640x480 with 1 Axes>"
            ],
            "image/png": "[encoded data removed]"
          },
          "metadata": {}
        }
      ]
    },
    {
      "cell_type": "code",
      "source": [
        "df[\"sentiment\"].value_counts()"
      ],
      "metadata": {
        "execution": {
          "iopub.status.busy": "2023-05-22T13:30:28.492735Z",
          "iopub.execute_input": "2023-05-22T13:30:28.493114Z",
          "iopub.status.idle": "2023-05-22T13:30:28.510860Z",
          "shell.execute_reply.started": "2023-05-22T13:30:28.493083Z",
          "shell.execute_reply": "2023-05-22T13:30:28.509972Z"
        },
        "trusted": true,
        "colab": {
          "base_uri": "https://localhost:8080/",
          "height": 178
        },
        "id": "VVoLZ6K8I09Y",
        "outputId": "40adb9b3-143b-4145-92bb-92a5de85e355"
      },
      "execution_count": 8,
      "outputs": [
        {
          "output_type": "execute_result",
          "data": {
            "text/plain": [
              "sentiment\n",
              "negative    8101\n",
              "positive    7899\n",
              "Name: count, dtype: int64"
            ],
            "text/html": [
              "<div>\n",
              "<style scoped>\n",
              "    .dataframe tbody tr th:only-of-type {\n",
              "        vertical-align: middle;\n",
              "    }\n",
              "\n",
              "    .dataframe tbody tr th {\n",
              "        vertical-align: top;\n",
              "    }\n",
              "\n",
              "    .dataframe thead th {\n",
              "        text-align: right;\n",
              "    }\n",
              "</style>\n",
              "<table border=\"1\" class=\"dataframe\">\n",
              "  <thead>\n",
              "    <tr style=\"text-align: right;\">\n",
              "      <th></th>\n",
              "      <th>count</th>\n",
              "    </tr>\n",
              "    <tr>\n",
              "      <th>sentiment</th>\n",
              "      <th></th>\n",
              "    </tr>\n",
              "  </thead>\n",
              "  <tbody>\n",
              "    <tr>\n",
              "      <th>negative</th>\n",
              "      <td>8101</td>\n",
              "    </tr>\n",
              "    <tr>\n",
              "      <th>positive</th>\n",
              "      <td>7899</td>\n",
              "    </tr>\n",
              "  </tbody>\n",
              "</table>\n",
              "</div><br><label><b>dtype:</b> int64</label>"
            ]
          },
          "metadata": {},
          "execution_count": 8
        }
      ]
    },
    {
      "cell_type": "markdown",
      "source": [
        "- So, there is no class imbalance both class has an equal number of data."
      ],
      "metadata": {
        "id": "oZWnXvMAI09Y"
      }
    },
    {
      "cell_type": "code",
      "source": [
        "df[\"review\"][2]"
      ],
      "metadata": {
        "execution": {
          "iopub.status.busy": "2023-05-22T13:30:30.007753Z",
          "iopub.execute_input": "2023-05-22T13:30:30.008124Z",
          "iopub.status.idle": "2023-05-22T13:30:30.014537Z",
          "shell.execute_reply.started": "2023-05-22T13:30:30.008096Z",
          "shell.execute_reply": "2023-05-22T13:30:30.013338Z"
        },
        "trusted": true,
        "colab": {
          "base_uri": "https://localhost:8080/",
          "height": 126
        },
        "id": "Kx0Lbow6I09Z",
        "outputId": "4f2ee75e-e0a0-42ae-fbb0-c958c70e8508"
      },
      "execution_count": 9,
      "outputs": [
        {
          "output_type": "execute_result",
          "data": {
            "text/plain": [
              "'I thought this was a wonderful way to spend time on a too hot summer weekend, sitting in the air conditioned theater and watching a light-hearted comedy. The plot is simplistic, but the dialogue is witty and the characters are likable (even the well bread suspected serial killer). While some may be disappointed when they realize this is not Match Point 2: Risk Addiction, I thought it was proof that Woody Allen is still fully in control of the style many of us have grown to love.<br /><br />This was the most I\\'d laughed at one of Woody\\'s comedies in years (dare I say a decade?). While I\\'ve never been impressed with Scarlet Johanson, in this she managed to tone down her \"sexy\" image and jumped right into a average, but spirited young woman.<br /><br />This may not be the crown jewel of his career, but it was wittier than \"Devil Wears Prada\" and more interesting than \"Superman\" a great comedy to go see with friends.'"
            ],
            "application/vnd.google.colaboratory.intrinsic+json": {
              "type": "string"
            }
          },
          "metadata": {},
          "execution_count": 9
        }
      ]
    },
    {
      "cell_type": "code",
      "source": [
        "try:\n",
        "    stopwords_list = set(stopwords.words('english'))\n",
        "except LookupError:\n",
        "    nltk.download('stopwords')\n",
        "    stopwords_list = set(stopwords.words('english'))\n",
        "\n",
        "TAG_RE = re.compile(r'<[^>]+>')\n",
        "\n",
        "def remove_tags(text):\n",
        "    return TAG_RE.sub('', text)\n",
        "\n",
        "\n",
        "class CustomPreprocess():\n",
        "\n",
        "    def __init__(self):\n",
        "        pass\n",
        "\n",
        "    def preprocess_text(self,sen):\n",
        "        sen = sen.lower()\n",
        "\n",
        "        # Remove html tags\n",
        "        sentence = remove_tags(sen)\n",
        "\n",
        "        # Remove punctuations and numbers\n",
        "        sentence = re.sub('[^a-zA-Z]', ' ', sentence)\n",
        "\n",
        "        # Single character removal\n",
        "        sentence = re.sub(r\"\\s+[a-zA-Z]\\s+\", ' ', sentence)\n",
        "\n",
        "        # Remove multiple spaces\n",
        "        sentence = re.sub(r'\\s+', ' ', sentence)\n",
        "\n",
        "        # Remove Stopwords\n",
        "        pattern = re.compile(r'\\b(' + r'|'.join(stopwords_list) + r')\\b\\s*')\n",
        "        sentence = pattern.sub('', sentence)\n",
        "\n",
        "        return sentence"
      ],
      "metadata": {
        "execution": {
          "iopub.status.busy": "2023-05-22T13:30:30.565747Z",
          "iopub.execute_input": "2023-05-22T13:30:30.566123Z",
          "iopub.status.idle": "2023-05-22T13:30:30.581072Z",
          "shell.execute_reply.started": "2023-05-22T13:30:30.566094Z",
          "shell.execute_reply": "2023-05-22T13:30:30.580008Z"
        },
        "trusted": true,
        "colab": {
          "base_uri": "https://localhost:8080/"
        },
        "id": "XDKzxp2XI09Z",
        "outputId": "db09bf84-2897-445d-b4bd-a49e2026b366"
      },
      "execution_count": 11,
      "outputs": [
        {
          "output_type": "stream",
          "name": "stderr",
          "text": [
            "[nltk_data] Downloading package stopwords to /root/nltk_data...\n",
            "[nltk_data]   Unzipping corpora/stopwords.zip.\n"
          ]
        }
      ]
    },
    {
      "cell_type": "code",
      "source": [
        "custom = CustomPreprocess()\n",
        "custom.preprocess_text(\"I thought this was a wonderful way to spend time on a too hot summer weekend\")"
      ],
      "metadata": {
        "execution": {
          "iopub.status.busy": "2023-05-22T13:30:31.259099Z",
          "iopub.execute_input": "2023-05-22T13:30:31.259495Z",
          "iopub.status.idle": "2023-05-22T13:30:31.271551Z",
          "shell.execute_reply.started": "2023-05-22T13:30:31.259452Z",
          "shell.execute_reply": "2023-05-22T13:30:31.270220Z"
        },
        "trusted": true,
        "colab": {
          "base_uri": "https://localhost:8080/",
          "height": 36
        },
        "id": "YaHRCjbDI09Z",
        "outputId": "f9186e17-2bf2-473e-b574-a39526e96944"
      },
      "execution_count": 12,
      "outputs": [
        {
          "output_type": "execute_result",
          "data": {
            "text/plain": [
              "'thought wonderful way spend time hot summer weekend'"
            ],
            "application/vnd.google.colaboratory.intrinsic+json": {
              "type": "string"
            }
          },
          "metadata": {},
          "execution_count": 12
        }
      ]
    },
    {
      "cell_type": "code",
      "source": [
        "x = []\n",
        "sentences = list(df['review'])\n",
        "for sen in sentences:\n",
        "    x.append(custom.preprocess_text(sen))"
      ],
      "metadata": {
        "execution": {
          "iopub.status.busy": "2023-05-22T13:30:32.148625Z",
          "iopub.execute_input": "2023-05-22T13:30:32.148998Z",
          "iopub.status.idle": "2023-05-22T13:30:59.600902Z",
          "shell.execute_reply.started": "2023-05-22T13:30:32.148968Z",
          "shell.execute_reply": "2023-05-22T13:30:59.599887Z"
        },
        "trusted": true,
        "id": "1t9dgM53I09Z"
      },
      "execution_count": 13,
      "outputs": []
    },
    {
      "cell_type": "code",
      "source": [
        "y = df['sentiment']\n",
        "sentiment_map = {'negative' : 0, 'positive': 1}\n",
        "y = np.array(y.map(sentiment_map))\n",
        "y[:15]"
      ],
      "metadata": {
        "execution": {
          "iopub.status.busy": "2023-05-22T13:30:59.602869Z",
          "iopub.execute_input": "2023-05-22T13:30:59.603251Z",
          "iopub.status.idle": "2023-05-22T13:30:59.620718Z",
          "shell.execute_reply.started": "2023-05-22T13:30:59.603217Z",
          "shell.execute_reply": "2023-05-22T13:30:59.619546Z"
        },
        "trusted": true,
        "colab": {
          "base_uri": "https://localhost:8080/"
        },
        "id": "Vw10nBuwI09Z",
        "outputId": "c31c29e7-9228-479f-d6a2-629bdc41dd01"
      },
      "execution_count": 14,
      "outputs": [
        {
          "output_type": "execute_result",
          "data": {
            "text/plain": [
              "array([1, 1, 1, 0, 1, 1, 1, 0, 0, 1, 0, 0, 0, 0, 1])"
            ]
          },
          "metadata": {},
          "execution_count": 14
        }
      ]
    },
    {
      "cell_type": "code",
      "source": [
        "x_train, x_test, y_train,y_test = train_test_split(x,y,test_size=0.2,random_state=42)"
      ],
      "metadata": {
        "execution": {
          "iopub.status.busy": "2023-05-22T13:30:59.622833Z",
          "iopub.execute_input": "2023-05-22T13:30:59.623929Z",
          "iopub.status.idle": "2023-05-22T13:30:59.660527Z",
          "shell.execute_reply.started": "2023-05-22T13:30:59.623892Z",
          "shell.execute_reply": "2023-05-22T13:30:59.659515Z"
        },
        "trusted": true,
        "id": "vAF5DsZmI09Z"
      },
      "execution_count": 15,
      "outputs": []
    },
    {
      "cell_type": "markdown",
      "source": [
        "> Creating Embedding Layer:\n",
        "\n",
        "> An embedding layer is typically used to convert words or tokens from a vocabulary into fixed-length dense vectors, often referred to as word embeddings or word vectors. Each word in the vocabulary is assigned a unique vector representation in the embedding space. These word embeddings are learned through the training process, where the model adjusts the values of the vectors to optimize the task at hand, such as sentiment analysis, machine translation, or text generation"
      ],
      "metadata": {
        "id": "7PHmcBkFI09a"
      }
    },
    {
      "cell_type": "code",
      "source": [
        "tokenizer = Tokenizer()\n",
        "tokenizer.fit_on_texts(x_train)\n",
        "x_train = tokenizer.texts_to_sequences(x_train)\n",
        "x_test = tokenizer.texts_to_sequences(x_test)"
      ],
      "metadata": {
        "execution": {
          "iopub.status.busy": "2023-05-22T13:31:04.089297Z",
          "iopub.execute_input": "2023-05-22T13:31:04.089762Z",
          "iopub.status.idle": "2023-05-22T13:31:13.852051Z",
          "shell.execute_reply.started": "2023-05-22T13:31:04.089725Z",
          "shell.execute_reply": "2023-05-22T13:31:13.850960Z"
        },
        "trusted": true,
        "id": "LMK4eNBcI09a"
      },
      "execution_count": 16,
      "outputs": []
    },
    {
      "cell_type": "code",
      "source": [
        "import io\n",
        "import json\n",
        "tokenizer_json = tokenizer.to_json()\n",
        "\n",
        "with io.open(\"tokenizer.json\", 'w', encoding = \"utf-8\") as f:\n",
        "    f.write(json.dumps(tokenizer_json, ensure_ascii = False))"
      ],
      "metadata": {
        "execution": {
          "iopub.status.busy": "2023-05-22T13:34:24.820216Z",
          "iopub.execute_input": "2023-05-22T13:34:24.820585Z",
          "iopub.status.idle": "2023-05-22T13:34:25.615059Z",
          "shell.execute_reply.started": "2023-05-22T13:34:24.820559Z",
          "shell.execute_reply": "2023-05-22T13:34:25.614012Z"
        },
        "trusted": true,
        "id": "YNnU94DmI09a"
      },
      "execution_count": 17,
      "outputs": []
    },
    {
      "cell_type": "code",
      "source": [
        "vocab_length = len(tokenizer.word_index)+1\n",
        "vocab_length"
      ],
      "metadata": {
        "execution": {
          "iopub.status.busy": "2023-05-22T13:34:30.821238Z",
          "iopub.execute_input": "2023-05-22T13:34:30.821610Z",
          "iopub.status.idle": "2023-05-22T13:34:30.827645Z",
          "shell.execute_reply.started": "2023-05-22T13:34:30.821582Z",
          "shell.execute_reply": "2023-05-22T13:34:30.826672Z"
        },
        "trusted": true,
        "colab": {
          "base_uri": "https://localhost:8080/"
        },
        "id": "HQ2-k7R9I09a",
        "outputId": "d2a6c693-ec81-4eb2-f16f-507817b35dbf"
      },
      "execution_count": 18,
      "outputs": [
        {
          "output_type": "execute_result",
          "data": {
            "text/plain": [
              "57736"
            ]
          },
          "metadata": {},
          "execution_count": 18
        }
      ]
    },
    {
      "cell_type": "code",
      "source": [
        "maxlen = 100\n",
        "\n",
        "x_train = pad_sequences(x_train, padding='post', maxlen=maxlen)\n",
        "x_test = pad_sequences(x_test, padding='post', maxlen=maxlen)"
      ],
      "metadata": {
        "execution": {
          "iopub.status.busy": "2023-05-22T13:34:45.507304Z",
          "iopub.execute_input": "2023-05-22T13:34:45.507689Z",
          "iopub.status.idle": "2023-05-22T13:34:46.406237Z",
          "shell.execute_reply.started": "2023-05-22T13:34:45.507661Z",
          "shell.execute_reply": "2023-05-22T13:34:46.405201Z"
        },
        "trusted": true,
        "id": "2_f5_dNPI09b"
      },
      "execution_count": 19,
      "outputs": []
    },
    {
      "cell_type": "code",
      "source": [
        "embedding_dict = dict()\n",
        "glove_file = open(\"https://www.kaggle.com/datasets/danielwillgeorge/glove6b100dtxt\", encoding = 'utf8')\n",
        "embeddings_dictionary = dict()\n",
        "for line in glove_file:\n",
        "    records = line.split()\n",
        "    words = records[0]\n",
        "    vector_dimensions = np.asarray(records[1:], dtype = 'float32')\n",
        "    embeddings_dictionary[words] = vector_dimensions\n",
        "glove_file.close()"
      ],
      "metadata": {
        "execution": {
          "iopub.status.busy": "2023-05-22T13:34:52.391691Z",
          "iopub.execute_input": "2023-05-22T13:34:52.392063Z",
          "iopub.status.idle": "2023-05-22T13:35:04.247994Z",
          "shell.execute_reply.started": "2023-05-22T13:34:52.392031Z",
          "shell.execute_reply": "2023-05-22T13:35:04.247026Z"
        },
        "trusted": true,
        "colab": {
          "base_uri": "https://localhost:8080/",
          "height": 219
        },
        "id": "Q7asB6B1I09b",
        "outputId": "45ebbd3b-18d4-4dfe-b16d-29be65792610"
      },
      "execution_count": 39,
      "outputs": [
        {
          "output_type": "error",
          "ename": "FileNotFoundError",
          "evalue": "[Errno 2] No such file or directory: 'https://www.kaggle.com/datasets/danielwillgeorge/glove6b100dtxt'",
          "traceback": [
            "\u001b[0;31m---------------------------------------------------------------------------\u001b[0m",
            "\u001b[0;31mFileNotFoundError\u001b[0m                         Traceback (most recent call last)",
            "\u001b[0;32m<ipython-input-39-3741188410>\u001b[0m in \u001b[0;36m<cell line: 0>\u001b[0;34m()\u001b[0m\n\u001b[1;32m      1\u001b[0m \u001b[0membedding_dict\u001b[0m \u001b[0;34m=\u001b[0m \u001b[0mdict\u001b[0m\u001b[0;34m(\u001b[0m\u001b[0;34m)\u001b[0m\u001b[0;34m\u001b[0m\u001b[0;34m\u001b[0m\u001b[0m\n\u001b[0;32m----> 2\u001b[0;31m \u001b[0mglove_file\u001b[0m \u001b[0;34m=\u001b[0m \u001b[0mopen\u001b[0m\u001b[0;34m(\u001b[0m\u001b[0;34m\"https://www.kaggle.com/datasets/danielwillgeorge/glove6b100dtxt\"\u001b[0m\u001b[0;34m,\u001b[0m \u001b[0mencoding\u001b[0m \u001b[0;34m=\u001b[0m \u001b[0;34m'utf8'\u001b[0m\u001b[0;34m)\u001b[0m\u001b[0;34m\u001b[0m\u001b[0;34m\u001b[0m\u001b[0m\n\u001b[0m\u001b[1;32m      3\u001b[0m \u001b[0membeddings_dictionary\u001b[0m \u001b[0;34m=\u001b[0m \u001b[0mdict\u001b[0m\u001b[0;34m(\u001b[0m\u001b[0;34m)\u001b[0m\u001b[0;34m\u001b[0m\u001b[0;34m\u001b[0m\u001b[0m\n\u001b[1;32m      4\u001b[0m \u001b[0;32mfor\u001b[0m \u001b[0mline\u001b[0m \u001b[0;32min\u001b[0m \u001b[0mglove_file\u001b[0m\u001b[0;34m:\u001b[0m\u001b[0;34m\u001b[0m\u001b[0;34m\u001b[0m\u001b[0m\n\u001b[1;32m      5\u001b[0m     \u001b[0mrecords\u001b[0m \u001b[0;34m=\u001b[0m \u001b[0mline\u001b[0m\u001b[0;34m.\u001b[0m\u001b[0msplit\u001b[0m\u001b[0;34m(\u001b[0m\u001b[0;34m)\u001b[0m\u001b[0;34m\u001b[0m\u001b[0;34m\u001b[0m\u001b[0m\n",
            "\u001b[0;31mFileNotFoundError\u001b[0m: [Errno 2] No such file or directory: 'https://www.kaggle.com/datasets/danielwillgeorge/glove6b100dtxt'"
          ]
        }
      ]
    },
    {
      "cell_type": "code",
      "source": [
        "!wget http://nlp.stanford.edu/data/glove.6B.zip\n"
      ],
      "metadata": {
        "colab": {
          "base_uri": "https://localhost:8080/"
        },
        "id": "o9KpYEUpQbjZ",
        "outputId": "7d444ec5-1b7f-492f-d6bf-02c9d91aedc4"
      },
      "execution_count": 32,
      "outputs": [
        {
          "output_type": "stream",
          "name": "stdout",
          "text": [
            "--2025-06-10 19:12:08--  http://nlp.stanford.edu/data/glove.6B.zip\n",
            "Resolving nlp.stanford.edu (nlp.stanford.edu)... 171.64.67.140\n",
            "Connecting to nlp.stanford.edu (nlp.stanford.edu)|171.64.67.140|:80... connected.\n",
            "HTTP request sent, awaiting response... 302 Found\n",
            "Location: https://nlp.stanford.edu/data/glove.6B.zip [following]\n",
            "--2025-06-10 19:12:08--  https://nlp.stanford.edu/data/glove.6B.zip\n",
            "Connecting to nlp.stanford.edu (nlp.stanford.edu)|171.64.67.140|:443... connected.\n",
            "HTTP request sent, awaiting response... 301 Moved Permanently\n",
            "Location: https://downloads.cs.stanford.edu/nlp/data/glove.6B.zip [following]\n",
            "--2025-06-10 19:12:08--  https://downloads.cs.stanford.edu/nlp/data/glove.6B.zip\n",
            "Resolving downloads.cs.stanford.edu (downloads.cs.stanford.edu)... 171.64.64.22\n",
            "Connecting to downloads.cs.stanford.edu (downloads.cs.stanford.edu)|171.64.64.22|:443... connected.\n",
            "HTTP request sent, awaiting response... 200 OK\n",
            "Length: 862182613 (822M) [application/zip]\n",
            "Saving to: ‘glove.6B.zip’\n",
            "\n",
            "glove.6B.zip        100%[===================>] 822.24M  5.00MB/s    in 2m 39s  \n",
            "\n",
            "2025-06-10 19:14:47 (5.17 MB/s) - ‘glove.6B.zip’ saved [862182613/862182613]\n",
            "\n"
          ]
        }
      ]
    },
    {
      "cell_type": "code",
      "source": [
        "!unzip glove.6B.zip\n"
      ],
      "metadata": {
        "colab": {
          "base_uri": "https://localhost:8080/"
        },
        "id": "3aTwJmuKRFkm",
        "outputId": "cc91f514-c664-42f7-f35b-908463e92b5c"
      },
      "execution_count": 33,
      "outputs": [
        {
          "output_type": "stream",
          "name": "stdout",
          "text": [
            "Archive:  glove.6B.zip\n",
            "  inflating: glove.6B.50d.txt        \n",
            "  inflating: glove.6B.100d.txt       \n",
            "  inflating: glove.6B.200d.txt       \n",
            "  inflating: glove.6B.300d.txt       \n"
          ]
        }
      ]
    },
    {
      "cell_type": "code",
      "source": [
        "import numpy as np\n",
        "\n",
        "embedding_index = {}\n",
        "with open(\"glove.6B.100d.txt\", encoding=\"utf8\") as f:\n",
        "    for line in f:\n",
        "        values = line.split()\n",
        "        word = values[0]\n",
        "        vector = np.asarray(values[1:], dtype='float32')\n",
        "        embedding_index[word] = vector\n",
        "\n",
        "print(f\"Loaded {len(embedding_index)} word vectors.\")\n"
      ],
      "metadata": {
        "colab": {
          "base_uri": "https://localhost:8080/"
        },
        "id": "_51yLxfXRSpc",
        "outputId": "e7d623f2-9608-4043-d031-a3777c133e18"
      },
      "execution_count": 34,
      "outputs": [
        {
          "output_type": "stream",
          "name": "stdout",
          "text": [
            "Loaded 400000 word vectors.\n"
          ]
        }
      ]
    },
    {
      "cell_type": "code",
      "source": [
        "embedding_dim = 100  # Must match glove.6B.100d.txt\n",
        "word_index = tokenizer.word_index\n",
        "num_words = min(10000, len(word_index) + 1)\n",
        "\n",
        "embedding_matrix = np.zeros((num_words, embedding_dim))\n",
        "for word, i in word_index.items():\n",
        "    if i >= num_words:\n",
        "        continue\n",
        "    embedding_vector = embedding_index.get(word)\n",
        "    if embedding_vector is not None:\n",
        "        embedding_matrix[i] = embedding_vector\n"
      ],
      "metadata": {
        "id": "GbyAOeRyRa5d"
      },
      "execution_count": 35,
      "outputs": []
    },
    {
      "cell_type": "code",
      "source": [
        "from keras.layers import Embedding\n",
        "\n",
        "embedding_layer = Embedding(\n",
        "    input_dim=num_words,\n",
        "    output_dim=embedding_dim,\n",
        "    weights=[embedding_matrix],\n",
        "    input_length=200,\n",
        "    trainable=False  # Keep False to not update pre-trained vectors\n",
        ")\n"
      ],
      "metadata": {
        "colab": {
          "base_uri": "https://localhost:8080/"
        },
        "id": "rwhaPg2pRcgV",
        "outputId": "7c1f3df9-4df6-4af5-922e-d2b43f307d4b"
      },
      "execution_count": 36,
      "outputs": [
        {
          "output_type": "stream",
          "name": "stderr",
          "text": [
            "/usr/local/lib/python3.11/dist-packages/keras/src/layers/core/embedding.py:90: UserWarning: Argument `input_length` is deprecated. Just remove it.\n",
            "  warnings.warn(\n"
          ]
        }
      ]
    },
    {
      "cell_type": "code",
      "source": [
        "import numpy as np\n",
        "\n",
        "# Ensure the correct file path for the downloaded and unzipped GloVe file\n",
        "glove_file_path = \"glove.6B.100d.txt\"\n",
        "\n",
        "embedding_index = {}\n",
        "try:\n",
        "    with open(glove_file_path, encoding=\"utf8\") as f:\n",
        "        for line in f:\n",
        "            values = line.split()\n",
        "            if len(values) > 1: # Ensure there are enough values\n",
        "                word = values[0]\n",
        "                try:\n",
        "                    vector = np.asarray(values[1:], dtype='float32')\n",
        "                    embedding_index[word] = vector\n",
        "                except ValueError:\n",
        "                     # Handle lines that might not be correctly formatted\n",
        "                    print(f\"Skipping line due to formatting error: {line[:50]}...\")\n",
        "\n",
        "except FileNotFoundError:\n",
        "    print(f\"Error: GloVe file not found at '{glove_file_path}'.\")\n",
        "    print(\"Please ensure you have downloaded and unzipped 'glove.6B.zip' and that 'glove.6B.100d.txt' is in the correct directory.\")\n",
        "    print(\"You can use the following commands if you haven't already:\")\n",
        "    print(\"!wget http://nlp.stanford.edu/data/glove.6B.zip\")\n",
        "    print(\"!unzip glove.6B.zip\")\n",
        "except Exception as e:\n",
        "    print(f\"An error occurred while reading the GloVe file: {e}\")\n",
        "\n",
        "\n",
        "if not embedding_index:\n",
        "    print(\"Warning: embedding_index is empty. GloVe embeddings might not have been loaded correctly.\")\n",
        "else:\n",
        "    print(f\"Loaded {len(embedding_index)} word vectors.\")\n",
        "\n",
        "# Now you can use embedding_index (which was named embeddings_dictionary in your previous attempt)\n",
        "# to build your embedding matrix. Your subsequent code already does this correctly.\n",
        "# embedding_matrix = np.zeros((vocab_length, 100)) #100\n",
        "# for word, index in tokenizer.word_index.items():\n",
        "#     embedding_vector = embedding_index.get(word) # Use embedding_index\n",
        "#     if embedding_vector is not None:\n",
        "#         embedding_matrix[index] = embedding_vector"
      ],
      "metadata": {
        "colab": {
          "base_uri": "https://localhost:8080/"
        },
        "id": "bqRAw7dlSPJ7",
        "outputId": "88eeb8d9-034c-4f21-e579-c2c6e0a1515e"
      },
      "execution_count": 40,
      "outputs": [
        {
          "output_type": "stream",
          "name": "stdout",
          "text": [
            "Loaded 400000 word vectors.\n"
          ]
        }
      ]
    },
    {
      "cell_type": "code",
      "source": [
        "print(list(tokenizer.word_index.items())[:15])"
      ],
      "metadata": {
        "execution": {
          "iopub.status.busy": "2023-05-22T13:35:04.250069Z",
          "iopub.execute_input": "2023-05-22T13:35:04.250467Z",
          "iopub.status.idle": "2023-05-22T13:35:04.276475Z",
          "shell.execute_reply.started": "2023-05-22T13:35:04.250432Z",
          "shell.execute_reply": "2023-05-22T13:35:04.275256Z"
        },
        "trusted": true,
        "colab": {
          "base_uri": "https://localhost:8080/"
        },
        "id": "QJF4v03II09b",
        "outputId": "0cd170d2-eb92-455f-dbea-e382e4259318"
      },
      "execution_count": 41,
      "outputs": [
        {
          "output_type": "stream",
          "name": "stdout",
          "text": [
            "[('movie', 1), ('film', 2), ('one', 3), ('like', 4), ('good', 5), ('time', 6), ('would', 7), ('even', 8), ('story', 9), ('really', 10), ('see', 11), ('well', 12), ('much', 13), ('bad', 14), ('get', 15)]\n"
          ]
        }
      ]
    },
    {
      "cell_type": "code",
      "source": [
        "embeddings_dictionary.get('film')"
      ],
      "metadata": {
        "execution": {
          "iopub.status.busy": "2023-05-22T13:43:05.848368Z",
          "iopub.execute_input": "2023-05-22T13:43:05.848745Z",
          "iopub.status.idle": "2023-05-22T13:43:05.857775Z",
          "shell.execute_reply.started": "2023-05-22T13:43:05.848716Z",
          "shell.execute_reply": "2023-05-22T13:43:05.856199Z"
        },
        "trusted": true,
        "id": "hU49m6atI09b"
      },
      "execution_count": 42,
      "outputs": []
    },
    {
      "source": [
        "\n",
        "print(embedding_index.get('film'))"
      ],
      "cell_type": "code",
      "metadata": {
        "colab": {
          "base_uri": "https://localhost:8080/"
        },
        "id": "nrkB5o5bSmKM",
        "outputId": "fac69203-6911-4cca-da9d-8a061443de70"
      },
      "execution_count": 45,
      "outputs": [
        {
          "output_type": "stream",
          "name": "stdout",
          "text": [
            "[ 0.19916  -0.049702  0.24579  -0.32281   0.89768  -0.1278   -0.49506\n",
            "  0.20814  -0.20046  -0.20604   0.038292 -0.67277  -0.12689  -0.18766\n",
            " -0.10277   0.73128   0.82408   0.087288  0.69255   1.3107    0.49113\n",
            " -0.38097   0.24338  -0.27813   0.62506   0.35978   0.42041  -0.24529\n",
            "  0.14861  -0.26726  -0.56262   0.63843  -0.54153   0.36537   0.20545\n",
            " -0.16604   0.72434   0.29961  -0.42501  -0.35932  -0.089288  0.48752\n",
            " -1.0927    0.88818   0.89941  -0.7541   -0.35492  -0.76396   0.27468\n",
            "  0.2757   -0.48152  -0.41399   0.64489   1.148    -0.29131  -2.9387\n",
            " -0.83162   0.95586   1.1623   -0.42502   0.15486   2.2326   -0.31339\n",
            " -0.030228  0.79802  -0.41302   0.72885   0.7296   -0.31909   0.8956\n",
            "  0.34625   0.2923    0.40056   0.78985  -0.43999   0.24698  -0.46548\n",
            "  0.055886 -0.62603  -0.036487 -0.65429   0.10563   0.17435   0.35466\n",
            " -1.9403   -0.022502 -0.7302   -0.63042  -0.032799 -0.43953  -0.07239\n",
            " -0.44875  -0.074689 -0.14426   0.19252   0.27108   0.20325  -0.068109\n",
            "  0.017651  0.06455 ]\n"
          ]
        }
      ]
    },
    {
      "cell_type": "code",
      "source": [
        "embedding_matrix = np.zeros((vocab_length, 100)) #100\n",
        "for word, index in tokenizer.word_index.items():\n",
        "    embedding_vector = embeddings_dictionary.get(word)\n",
        "    if embedding_vector is not None:\n",
        "        embedding_matrix[index] = embedding_vector"
      ],
      "metadata": {
        "execution": {
          "iopub.status.busy": "2023-05-22T13:43:07.534960Z",
          "iopub.execute_input": "2023-05-22T13:43:07.535647Z",
          "iopub.status.idle": "2023-05-22T13:43:07.728292Z",
          "shell.execute_reply.started": "2023-05-22T13:43:07.535609Z",
          "shell.execute_reply": "2023-05-22T13:43:07.727207Z"
        },
        "trusted": true,
        "id": "2TC315_eI09b"
      },
      "execution_count": 46,
      "outputs": []
    },
    {
      "cell_type": "code",
      "source": [
        "embedding_matrix.shape"
      ],
      "metadata": {
        "execution": {
          "iopub.status.busy": "2023-05-22T13:43:11.262571Z",
          "iopub.execute_input": "2023-05-22T13:43:11.262914Z",
          "iopub.status.idle": "2023-05-22T13:43:11.269920Z",
          "shell.execute_reply.started": "2023-05-22T13:43:11.262885Z",
          "shell.execute_reply": "2023-05-22T13:43:11.269064Z"
        },
        "trusted": true,
        "colab": {
          "base_uri": "https://localhost:8080/"
        },
        "id": "-AfyzGe2I09b",
        "outputId": "70dbcc2b-4dfb-4909-b1cb-fc586ae43e77"
      },
      "execution_count": 47,
      "outputs": [
        {
          "output_type": "execute_result",
          "data": {
            "text/plain": [
              "(57736, 100)"
            ]
          },
          "metadata": {},
          "execution_count": 47
        }
      ]
    },
    {
      "cell_type": "markdown",
      "source": [
        "> Model Building:\n",
        ">> Simple Neural Network:"
      ],
      "metadata": {
        "id": "APvCw4iSI09b"
      }
    },
    {
      "cell_type": "code",
      "source": [
        "snn = Sequential()\n",
        "embedding_layer = Embedding(vocab_length, 100, weights = [embedding_matrix], input_length = maxlen, trainable = False)\n",
        "snn.add(embedding_layer)\n",
        "snn.add(Flatten())\n",
        "snn.add(Dense(16, activation='relu'))\n",
        "snn.add(Dense(1,activation = 'sigmoid'))"
      ],
      "metadata": {
        "execution": {
          "iopub.status.busy": "2023-05-22T13:43:14.077475Z",
          "iopub.execute_input": "2023-05-22T13:43:14.077828Z",
          "iopub.status.idle": "2023-05-22T13:43:16.791791Z",
          "shell.execute_reply.started": "2023-05-22T13:43:14.077800Z",
          "shell.execute_reply": "2023-05-22T13:43:16.790786Z"
        },
        "trusted": true,
        "colab": {
          "base_uri": "https://localhost:8080/"
        },
        "id": "gI16zhzzI09b",
        "outputId": "fa41a476-c544-4660-e7f1-be0f7d0cd352"
      },
      "execution_count": 48,
      "outputs": [
        {
          "output_type": "stream",
          "name": "stderr",
          "text": [
            "/usr/local/lib/python3.11/dist-packages/keras/src/layers/core/embedding.py:90: UserWarning: Argument `input_length` is deprecated. Just remove it.\n",
            "  warnings.warn(\n"
          ]
        }
      ]
    },
    {
      "cell_type": "code",
      "source": [
        "snn.compile(optimizer='adam', loss = 'binary_crossentropy', metrics=['accuracy'])\n",
        "snn.summary()"
      ],
      "metadata": {
        "execution": {
          "iopub.status.busy": "2023-05-22T13:43:18.407271Z",
          "iopub.execute_input": "2023-05-22T13:43:18.408100Z",
          "iopub.status.idle": "2023-05-22T13:43:18.444517Z",
          "shell.execute_reply.started": "2023-05-22T13:43:18.408056Z",
          "shell.execute_reply": "2023-05-22T13:43:18.443767Z"
        },
        "trusted": true,
        "colab": {
          "base_uri": "https://localhost:8080/",
          "height": 257
        },
        "id": "RSihsyBVI09b",
        "outputId": "30ccc864-eb8e-455b-c0ce-2144fb40703b"
      },
      "execution_count": 49,
      "outputs": [
        {
          "output_type": "display_data",
          "data": {
            "text/plain": [
              "\u001b[1mModel: \"sequential\"\u001b[0m\n"
            ],
            "text/html": [
              "<pre style=\"white-space:pre;overflow-x:auto;line-height:normal;font-family:Menlo,'DejaVu Sans Mono',consolas,'Courier New',monospace\"><span style=\"font-weight: bold\">Model: \"sequential\"</span>\n",
              "</pre>\n"
            ]
          },
          "metadata": {}
        },
        {
          "output_type": "display_data",
          "data": {
            "text/plain": [
              "┏━━━━━━━━━━━━━━━━━━━━━━━━━━━━━━━━━┳━━━━━━━━━━━━━━━━━━━━━━━━┳━━━━━━━━━━━━━━━┓\n",
              "┃\u001b[1m \u001b[0m\u001b[1mLayer (type)                   \u001b[0m\u001b[1m \u001b[0m┃\u001b[1m \u001b[0m\u001b[1mOutput Shape          \u001b[0m\u001b[1m \u001b[0m┃\u001b[1m \u001b[0m\u001b[1m      Param #\u001b[0m\u001b[1m \u001b[0m┃\n",
              "┡━━━━━━━━━━━━━━━━━━━━━━━━━━━━━━━━━╇━━━━━━━━━━━━━━━━━━━━━━━━╇━━━━━━━━━━━━━━━┩\n",
              "│ embedding_1 (\u001b[38;5;33mEmbedding\u001b[0m)         │ ?                      │     \u001b[38;5;34m5,773,600\u001b[0m │\n",
              "├─────────────────────────────────┼────────────────────────┼───────────────┤\n",
              "│ flatten (\u001b[38;5;33mFlatten\u001b[0m)               │ ?                      │   \u001b[38;5;34m0\u001b[0m (unbuilt) │\n",
              "├─────────────────────────────────┼────────────────────────┼───────────────┤\n",
              "│ dense (\u001b[38;5;33mDense\u001b[0m)                   │ ?                      │   \u001b[38;5;34m0\u001b[0m (unbuilt) │\n",
              "├─────────────────────────────────┼────────────────────────┼───────────────┤\n",
              "│ dense_1 (\u001b[38;5;33mDense\u001b[0m)                 │ ?                      │   \u001b[38;5;34m0\u001b[0m (unbuilt) │\n",
              "└─────────────────────────────────┴────────────────────────┴───────────────┘\n"
            ],
            "text/html": [
              "<pre style=\"white-space:pre;overflow-x:auto;line-height:normal;font-family:Menlo,'DejaVu Sans Mono',consolas,'Courier New',monospace\">┏━━━━━━━━━━━━━━━━━━━━━━━━━━━━━━━━━┳━━━━━━━━━━━━━━━━━━━━━━━━┳━━━━━━━━━━━━━━━┓\n",
              "┃<span style=\"font-weight: bold\"> Layer (type)                    </span>┃<span style=\"font-weight: bold\"> Output Shape           </span>┃<span style=\"font-weight: bold\">       Param # </span>┃\n",
              "┡━━━━━━━━━━━━━━━━━━━━━━━━━━━━━━━━━╇━━━━━━━━━━━━━━━━━━━━━━━━╇━━━━━━━━━━━━━━━┩\n",
              "│ embedding_1 (<span style=\"color: #0087ff; text-decoration-color: #0087ff\">Embedding</span>)         │ ?                      │     <span style=\"color: #00af00; text-decoration-color: #00af00\">5,773,600</span> │\n",
              "├─────────────────────────────────┼────────────────────────┼───────────────┤\n",
              "│ flatten (<span style=\"color: #0087ff; text-decoration-color: #0087ff\">Flatten</span>)               │ ?                      │   <span style=\"color: #00af00; text-decoration-color: #00af00\">0</span> (unbuilt) │\n",
              "├─────────────────────────────────┼────────────────────────┼───────────────┤\n",
              "│ dense (<span style=\"color: #0087ff; text-decoration-color: #0087ff\">Dense</span>)                   │ ?                      │   <span style=\"color: #00af00; text-decoration-color: #00af00\">0</span> (unbuilt) │\n",
              "├─────────────────────────────────┼────────────────────────┼───────────────┤\n",
              "│ dense_1 (<span style=\"color: #0087ff; text-decoration-color: #0087ff\">Dense</span>)                 │ ?                      │   <span style=\"color: #00af00; text-decoration-color: #00af00\">0</span> (unbuilt) │\n",
              "└─────────────────────────────────┴────────────────────────┴───────────────┘\n",
              "</pre>\n"
            ]
          },
          "metadata": {}
        },
        {
          "output_type": "display_data",
          "data": {
            "text/plain": [
              "\u001b[1m Total params: \u001b[0m\u001b[38;5;34m5,773,600\u001b[0m (22.02 MB)\n"
            ],
            "text/html": [
              "<pre style=\"white-space:pre;overflow-x:auto;line-height:normal;font-family:Menlo,'DejaVu Sans Mono',consolas,'Courier New',monospace\"><span style=\"font-weight: bold\"> Total params: </span><span style=\"color: #00af00; text-decoration-color: #00af00\">5,773,600</span> (22.02 MB)\n",
              "</pre>\n"
            ]
          },
          "metadata": {}
        },
        {
          "output_type": "display_data",
          "data": {
            "text/plain": [
              "\u001b[1m Trainable params: \u001b[0m\u001b[38;5;34m0\u001b[0m (0.00 B)\n"
            ],
            "text/html": [
              "<pre style=\"white-space:pre;overflow-x:auto;line-height:normal;font-family:Menlo,'DejaVu Sans Mono',consolas,'Courier New',monospace\"><span style=\"font-weight: bold\"> Trainable params: </span><span style=\"color: #00af00; text-decoration-color: #00af00\">0</span> (0.00 B)\n",
              "</pre>\n"
            ]
          },
          "metadata": {}
        },
        {
          "output_type": "display_data",
          "data": {
            "text/plain": [
              "\u001b[1m Non-trainable params: \u001b[0m\u001b[38;5;34m5,773,600\u001b[0m (22.02 MB)\n"
            ],
            "text/html": [
              "<pre style=\"white-space:pre;overflow-x:auto;line-height:normal;font-family:Menlo,'DejaVu Sans Mono',consolas,'Courier New',monospace\"><span style=\"font-weight: bold\"> Non-trainable params: </span><span style=\"color: #00af00; text-decoration-color: #00af00\">5,773,600</span> (22.02 MB)\n",
              "</pre>\n"
            ]
          },
          "metadata": {}
        }
      ]
    },
    {
      "cell_type": "code",
      "source": [
        "history_snn = snn.fit(x_train,y_train, batch_size=128, epochs = 10,\n",
        "                      verbose=1, validation_split =0.2)"
      ],
      "metadata": {
        "execution": {
          "iopub.status.busy": "2023-05-22T13:43:20.135988Z",
          "iopub.execute_input": "2023-05-22T13:43:20.136732Z",
          "iopub.status.idle": "2023-05-22T13:43:41.424768Z",
          "shell.execute_reply.started": "2023-05-22T13:43:20.136681Z",
          "shell.execute_reply": "2023-05-22T13:43:41.423768Z"
        },
        "trusted": true,
        "colab": {
          "base_uri": "https://localhost:8080/"
        },
        "id": "BUcHQXr_I09b",
        "outputId": "913e4476-08d5-4d4d-f829-b36232439666"
      },
      "execution_count": 50,
      "outputs": [
        {
          "output_type": "stream",
          "name": "stdout",
          "text": [
            "Epoch 1/10\n",
            "\u001b[1m80/80\u001b[0m \u001b[32m━━━━━━━━━━━━━━━━━━━━\u001b[0m\u001b[37m\u001b[0m \u001b[1m4s\u001b[0m 23ms/step - accuracy: 0.5031 - loss: 0.6931 - val_accuracy: 0.5082 - val_loss: 0.6931\n",
            "Epoch 2/10\n",
            "\u001b[1m80/80\u001b[0m \u001b[32m━━━━━━━━━━━━━━━━━━━━\u001b[0m\u001b[37m\u001b[0m \u001b[1m1s\u001b[0m 10ms/step - accuracy: 0.5116 - loss: 0.6930 - val_accuracy: 0.5082 - val_loss: 0.6930\n",
            "Epoch 3/10\n",
            "\u001b[1m80/80\u001b[0m \u001b[32m━━━━━━━━━━━━━━━━━━━━\u001b[0m\u001b[37m\u001b[0m \u001b[1m1s\u001b[0m 10ms/step - accuracy: 0.5057 - loss: 0.6931 - val_accuracy: 0.5082 - val_loss: 0.6930\n",
            "Epoch 4/10\n",
            "\u001b[1m80/80\u001b[0m \u001b[32m━━━━━━━━━━━━━━━━━━━━\u001b[0m\u001b[37m\u001b[0m \u001b[1m1s\u001b[0m 10ms/step - accuracy: 0.5094 - loss: 0.6930 - val_accuracy: 0.5082 - val_loss: 0.6930\n",
            "Epoch 5/10\n",
            "\u001b[1m80/80\u001b[0m \u001b[32m━━━━━━━━━━━━━━━━━━━━\u001b[0m\u001b[37m\u001b[0m \u001b[1m1s\u001b[0m 10ms/step - accuracy: 0.5008 - loss: 0.6933 - val_accuracy: 0.5082 - val_loss: 0.6930\n",
            "Epoch 6/10\n",
            "\u001b[1m80/80\u001b[0m \u001b[32m━━━━━━━━━━━━━━━━━━━━\u001b[0m\u001b[37m\u001b[0m \u001b[1m1s\u001b[0m 10ms/step - accuracy: 0.5111 - loss: 0.6929 - val_accuracy: 0.5082 - val_loss: 0.6930\n",
            "Epoch 7/10\n",
            "\u001b[1m80/80\u001b[0m \u001b[32m━━━━━━━━━━━━━━━━━━━━\u001b[0m\u001b[37m\u001b[0m \u001b[1m1s\u001b[0m 10ms/step - accuracy: 0.5117 - loss: 0.6929 - val_accuracy: 0.5082 - val_loss: 0.6930\n",
            "Epoch 8/10\n",
            "\u001b[1m80/80\u001b[0m \u001b[32m━━━━━━━━━━━━━━━━━━━━\u001b[0m\u001b[37m\u001b[0m \u001b[1m1s\u001b[0m 10ms/step - accuracy: 0.5066 - loss: 0.6931 - val_accuracy: 0.5082 - val_loss: 0.6930\n",
            "Epoch 9/10\n",
            "\u001b[1m80/80\u001b[0m \u001b[32m━━━━━━━━━━━━━━━━━━━━\u001b[0m\u001b[37m\u001b[0m \u001b[1m1s\u001b[0m 11ms/step - accuracy: 0.5039 - loss: 0.6932 - val_accuracy: 0.5082 - val_loss: 0.6930\n",
            "Epoch 10/10\n",
            "\u001b[1m80/80\u001b[0m \u001b[32m━━━━━━━━━━━━━━━━━━━━\u001b[0m\u001b[37m\u001b[0m \u001b[1m2s\u001b[0m 16ms/step - accuracy: 0.5091 - loss: 0.6930 - val_accuracy: 0.5082 - val_loss: 0.6930\n"
          ]
        }
      ]
    },
    {
      "cell_type": "code",
      "source": [
        "result = snn.evaluate(x_test,y_test, verbose = 1)"
      ],
      "metadata": {
        "execution": {
          "iopub.status.busy": "2023-05-22T13:43:41.427083Z",
          "iopub.execute_input": "2023-05-22T13:43:41.427448Z",
          "iopub.status.idle": "2023-05-22T13:43:42.755876Z",
          "shell.execute_reply.started": "2023-05-22T13:43:41.427414Z",
          "shell.execute_reply": "2023-05-22T13:43:42.754870Z"
        },
        "trusted": true,
        "colab": {
          "base_uri": "https://localhost:8080/"
        },
        "id": "MgoMeqn5I09b",
        "outputId": "1c5f2049-4d86-4b0b-e03c-7f5fd6a8c83f"
      },
      "execution_count": 51,
      "outputs": [
        {
          "output_type": "stream",
          "name": "stdout",
          "text": [
            "\u001b[1m100/100\u001b[0m \u001b[32m━━━━━━━━━━━━━━━━━━━━\u001b[0m\u001b[37m\u001b[0m \u001b[1m1s\u001b[0m 3ms/step - accuracy: 0.5122 - loss: 0.6929\n"
          ]
        }
      ]
    },
    {
      "cell_type": "code",
      "source": [
        "print(\"Test Accuracy:\", result[1])\n",
        "print(\"Test Loss:\", result[0])"
      ],
      "metadata": {
        "execution": {
          "iopub.status.busy": "2023-05-22T13:43:45.092499Z",
          "iopub.execute_input": "2023-05-22T13:43:45.092857Z",
          "iopub.status.idle": "2023-05-22T13:43:45.101091Z",
          "shell.execute_reply.started": "2023-05-22T13:43:45.092829Z",
          "shell.execute_reply": "2023-05-22T13:43:45.100188Z"
        },
        "trusted": true,
        "colab": {
          "base_uri": "https://localhost:8080/"
        },
        "id": "dozisNzSI09b",
        "outputId": "e79677a6-4dc0-4b6f-bab0-c11c224c6e74"
      },
      "execution_count": 52,
      "outputs": [
        {
          "output_type": "stream",
          "name": "stdout",
          "text": [
            "Test Accuracy: 0.4959374964237213\n",
            "Test Loss: 0.6934518218040466\n"
          ]
        }
      ]
    },
    {
      "cell_type": "code",
      "source": [
        "plt.figure(figsize=(12,6))\n",
        "epochs = range(1,11)\n",
        "plt.subplot(1,2,1)\n",
        "plt.plot(epochs,history_snn.history[\"accuracy\"],color = 'green', marker = 'o')\n",
        "plt.plot(epochs,history_snn.history[\"val_accuracy\"],color = 'red', marker = 'o')\n",
        "plt.title(\"Model Accuracy\")\n",
        "plt.xlabel(\"Epochs\",color = 'black')\n",
        "plt.ylabel(\"Accuracy\",color = 'black')\n",
        "plt.legend(['Train','Val'],loc = \"upper left\")\n",
        "\n",
        "plt.subplot(1,2,2)\n",
        "plt.plot(epochs,history_snn.history[\"loss\"],color = 'green', marker = 'o')\n",
        "plt.plot(epochs,history_snn.history[\"val_loss\"],color = 'red', marker = 'o')\n",
        "plt.title(\"Model Loss\")\n",
        "plt.xlabel(\"Epochs\",color = 'black')\n",
        "plt.ylabel(\"Loss\",color = 'black')\n",
        "plt.legend(['Train','Val'],loc = \"upper left\")\n",
        "\n",
        "plt.show()"
      ],
      "metadata": {
        "execution": {
          "iopub.status.busy": "2023-05-22T13:43:47.096017Z",
          "iopub.execute_input": "2023-05-22T13:43:47.096663Z",
          "iopub.status.idle": "2023-05-22T13:43:47.533129Z",
          "shell.execute_reply.started": "2023-05-22T13:43:47.096625Z",
          "shell.execute_reply": "2023-05-22T13:43:47.532221Z"
        },
        "trusted": true,
        "colab": {
          "base_uri": "https://localhost:8080/",
          "height": 569
        },
        "id": "6l4Ilw_MI09b",
        "outputId": "20bf7640-05b9-4c6d-f47e-f173dd1910c5"
      },
      "execution_count": 53,
      "outputs": [
        {
          "output_type": "display_data",
          "data": {
            "text/plain": [
              "<Figure size 1200x600 with 2 Axes>"
            ],
            "image/png": "[encoded data removed]"
          },
          "metadata": {}
        }
      ]
    },
    {
      "cell_type": "markdown",
      "source": [
        "> Convolutional Neural Network:"
      ],
      "metadata": {
        "id": "pQQRGA-JI09b"
      }
    },
    {
      "cell_type": "code",
      "source": [
        "from keras.layers import Conv1D\n",
        "cnn = Sequential()\n",
        "embedding_layer = Embedding(vocab_length, 100, weights = [embedding_matrix], input_length = maxlen, trainable = False)\n",
        "cnn.add(embedding_layer)\n",
        "cnn.add(Conv1D(128,5,activation = 'relu'))\n",
        "cnn.add(Dropout(0.2))\n",
        "\n",
        "cnn.add(Conv1D(256,5,activation = 'relu'))\n",
        "cnn.add(GlobalMaxPooling1D())\n",
        "\n",
        "cnn.add(Dense(1,activation = 'sigmoid'))"
      ],
      "metadata": {
        "execution": {
          "iopub.status.busy": "2023-05-22T13:44:00.072449Z",
          "iopub.execute_input": "2023-05-22T13:44:00.072810Z",
          "iopub.status.idle": "2023-05-22T13:44:00.206309Z",
          "shell.execute_reply.started": "2023-05-22T13:44:00.072781Z",
          "shell.execute_reply": "2023-05-22T13:44:00.205219Z"
        },
        "trusted": true,
        "id": "OJ8vnShUI09b"
      },
      "execution_count": 54,
      "outputs": []
    },
    {
      "cell_type": "code",
      "source": [
        "cnn.compile(optimizer='adam', loss = 'binary_crossentropy', metrics=['accuracy'])\n",
        "cnn.summary()"
      ],
      "metadata": {
        "execution": {
          "iopub.status.busy": "2023-05-22T13:44:02.176255Z",
          "iopub.execute_input": "2023-05-22T13:44:02.176977Z",
          "iopub.status.idle": "2023-05-22T13:44:02.211891Z",
          "shell.execute_reply.started": "2023-05-22T13:44:02.176932Z",
          "shell.execute_reply": "2023-05-22T13:44:02.211081Z"
        },
        "trusted": true,
        "colab": {
          "base_uri": "https://localhost:8080/",
          "height": 337
        },
        "id": "-XxBMKZtI09b",
        "outputId": "1b60efa4-9544-43a8-86c0-488b41621902"
      },
      "execution_count": 55,
      "outputs": [
        {
          "output_type": "display_data",
          "data": {
            "text/plain": [
              "\u001b[1mModel: \"sequential_1\"\u001b[0m\n"
            ],
            "text/html": [
              "<pre style=\"white-space:pre;overflow-x:auto;line-height:normal;font-family:Menlo,'DejaVu Sans Mono',consolas,'Courier New',monospace\"><span style=\"font-weight: bold\">Model: \"sequential_1\"</span>\n",
              "</pre>\n"
            ]
          },
          "metadata": {}
        },
        {
          "output_type": "display_data",
          "data": {
            "text/plain": [
              "┏━━━━━━━━━━━━━━━━━━━━━━━━━━━━━━━━━┳━━━━━━━━━━━━━━━━━━━━━━━━┳━━━━━━━━━━━━━━━┓\n",
              "┃\u001b[1m \u001b[0m\u001b[1mLayer (type)                   \u001b[0m\u001b[1m \u001b[0m┃\u001b[1m \u001b[0m\u001b[1mOutput Shape          \u001b[0m\u001b[1m \u001b[0m┃\u001b[1m \u001b[0m\u001b[1m      Param #\u001b[0m\u001b[1m \u001b[0m┃\n",
              "┡━━━━━━━━━━━━━━━━━━━━━━━━━━━━━━━━━╇━━━━━━━━━━━━━━━━━━━━━━━━╇━━━━━━━━━━━━━━━┩\n",
              "│ embedding_2 (\u001b[38;5;33mEmbedding\u001b[0m)         │ ?                      │     \u001b[38;5;34m5,773,600\u001b[0m │\n",
              "├─────────────────────────────────┼────────────────────────┼───────────────┤\n",
              "│ conv1d (\u001b[38;5;33mConv1D\u001b[0m)                 │ ?                      │   \u001b[38;5;34m0\u001b[0m (unbuilt) │\n",
              "├─────────────────────────────────┼────────────────────────┼───────────────┤\n",
              "│ dropout (\u001b[38;5;33mDropout\u001b[0m)               │ ?                      │             \u001b[38;5;34m0\u001b[0m │\n",
              "├─────────────────────────────────┼────────────────────────┼───────────────┤\n",
              "│ conv1d_1 (\u001b[38;5;33mConv1D\u001b[0m)               │ ?                      │   \u001b[38;5;34m0\u001b[0m (unbuilt) │\n",
              "├─────────────────────────────────┼────────────────────────┼───────────────┤\n",
              "│ global_max_pooling1d            │ ?                      │             \u001b[38;5;34m0\u001b[0m │\n",
              "│ (\u001b[38;5;33mGlobalMaxPooling1D\u001b[0m)            │                        │               │\n",
              "├─────────────────────────────────┼────────────────────────┼───────────────┤\n",
              "│ dense_2 (\u001b[38;5;33mDense\u001b[0m)                 │ ?                      │   \u001b[38;5;34m0\u001b[0m (unbuilt) │\n",
              "└─────────────────────────────────┴────────────────────────┴───────────────┘\n"
            ],
            "text/html": [
              "<pre style=\"white-space:pre;overflow-x:auto;line-height:normal;font-family:Menlo,'DejaVu Sans Mono',consolas,'Courier New',monospace\">┏━━━━━━━━━━━━━━━━━━━━━━━━━━━━━━━━━┳━━━━━━━━━━━━━━━━━━━━━━━━┳━━━━━━━━━━━━━━━┓\n",
              "┃<span style=\"font-weight: bold\"> Layer (type)                    </span>┃<span style=\"font-weight: bold\"> Output Shape           </span>┃<span style=\"font-weight: bold\">       Param # </span>┃\n",
              "┡━━━━━━━━━━━━━━━━━━━━━━━━━━━━━━━━━╇━━━━━━━━━━━━━━━━━━━━━━━━╇━━━━━━━━━━━━━━━┩\n",
              "│ embedding_2 (<span style=\"color: #0087ff; text-decoration-color: #0087ff\">Embedding</span>)         │ ?                      │     <span style=\"color: #00af00; text-decoration-color: #00af00\">5,773,600</span> │\n",
              "├─────────────────────────────────┼────────────────────────┼───────────────┤\n",
              "│ conv1d (<span style=\"color: #0087ff; text-decoration-color: #0087ff\">Conv1D</span>)                 │ ?                      │   <span style=\"color: #00af00; text-decoration-color: #00af00\">0</span> (unbuilt) │\n",
              "├─────────────────────────────────┼────────────────────────┼───────────────┤\n",
              "│ dropout (<span style=\"color: #0087ff; text-decoration-color: #0087ff\">Dropout</span>)               │ ?                      │             <span style=\"color: #00af00; text-decoration-color: #00af00\">0</span> │\n",
              "├─────────────────────────────────┼────────────────────────┼───────────────┤\n",
              "│ conv1d_1 (<span style=\"color: #0087ff; text-decoration-color: #0087ff\">Conv1D</span>)               │ ?                      │   <span style=\"color: #00af00; text-decoration-color: #00af00\">0</span> (unbuilt) │\n",
              "├─────────────────────────────────┼────────────────────────┼───────────────┤\n",
              "│ global_max_pooling1d            │ ?                      │             <span style=\"color: #00af00; text-decoration-color: #00af00\">0</span> │\n",
              "│ (<span style=\"color: #0087ff; text-decoration-color: #0087ff\">GlobalMaxPooling1D</span>)            │                        │               │\n",
              "├─────────────────────────────────┼────────────────────────┼───────────────┤\n",
              "│ dense_2 (<span style=\"color: #0087ff; text-decoration-color: #0087ff\">Dense</span>)                 │ ?                      │   <span style=\"color: #00af00; text-decoration-color: #00af00\">0</span> (unbuilt) │\n",
              "└─────────────────────────────────┴────────────────────────┴───────────────┘\n",
              "</pre>\n"
            ]
          },
          "metadata": {}
        },
        {
          "output_type": "display_data",
          "data": {
            "text/plain": [
              "\u001b[1m Total params: \u001b[0m\u001b[38;5;34m5,773,600\u001b[0m (22.02 MB)\n"
            ],
            "text/html": [
              "<pre style=\"white-space:pre;overflow-x:auto;line-height:normal;font-family:Menlo,'DejaVu Sans Mono',consolas,'Courier New',monospace\"><span style=\"font-weight: bold\"> Total params: </span><span style=\"color: #00af00; text-decoration-color: #00af00\">5,773,600</span> (22.02 MB)\n",
              "</pre>\n"
            ]
          },
          "metadata": {}
        },
        {
          "output_type": "display_data",
          "data": {
            "text/plain": [
              "\u001b[1m Trainable params: \u001b[0m\u001b[38;5;34m0\u001b[0m (0.00 B)\n"
            ],
            "text/html": [
              "<pre style=\"white-space:pre;overflow-x:auto;line-height:normal;font-family:Menlo,'DejaVu Sans Mono',consolas,'Courier New',monospace\"><span style=\"font-weight: bold\"> Trainable params: </span><span style=\"color: #00af00; text-decoration-color: #00af00\">0</span> (0.00 B)\n",
              "</pre>\n"
            ]
          },
          "metadata": {}
        },
        {
          "output_type": "display_data",
          "data": {
            "text/plain": [
              "\u001b[1m Non-trainable params: \u001b[0m\u001b[38;5;34m5,773,600\u001b[0m (22.02 MB)\n"
            ],
            "text/html": [
              "<pre style=\"white-space:pre;overflow-x:auto;line-height:normal;font-family:Menlo,'DejaVu Sans Mono',consolas,'Courier New',monospace\"><span style=\"font-weight: bold\"> Non-trainable params: </span><span style=\"color: #00af00; text-decoration-color: #00af00\">5,773,600</span> (22.02 MB)\n",
              "</pre>\n"
            ]
          },
          "metadata": {}
        }
      ]
    },
    {
      "cell_type": "code",
      "source": [
        "history_cnn = cnn.fit(x_train,y_train, batch_size=128, epochs = 10,\n",
        "                      verbose=1, validation_split =0.2)"
      ],
      "metadata": {
        "execution": {
          "iopub.status.busy": "2023-05-22T13:44:03.309699Z",
          "iopub.execute_input": "2023-05-22T13:44:03.310326Z",
          "iopub.status.idle": "2023-05-22T13:44:26.817915Z",
          "shell.execute_reply.started": "2023-05-22T13:44:03.310290Z",
          "shell.execute_reply": "2023-05-22T13:44:26.816954Z"
        },
        "trusted": true,
        "colab": {
          "base_uri": "https://localhost:8080/"
        },
        "id": "vgw9TlifI09c",
        "outputId": "f1a9206f-cabc-49ce-b1c3-6cc8a9f8cad2"
      },
      "execution_count": 56,
      "outputs": [
        {
          "output_type": "stream",
          "name": "stdout",
          "text": [
            "Epoch 1/10\n",
            "\u001b[1m80/80\u001b[0m \u001b[32m━━━━━━━━━━━━━━━━━━━━\u001b[0m\u001b[37m\u001b[0m \u001b[1m38s\u001b[0m 411ms/step - accuracy: 0.4968 - loss: 0.6932 - val_accuracy: 0.5082 - val_loss: 0.6931\n",
            "Epoch 2/10\n",
            "\u001b[1m80/80\u001b[0m \u001b[32m━━━━━━━━━━━━━━━━━━━━\u001b[0m\u001b[37m\u001b[0m \u001b[1m30s\u001b[0m 371ms/step - accuracy: 0.5001 - loss: 0.6932 - val_accuracy: 0.5082 - val_loss: 0.6930\n",
            "Epoch 3/10\n",
            "\u001b[1m80/80\u001b[0m \u001b[32m━━━━━━━━━━━━━━━━━━━━\u001b[0m\u001b[37m\u001b[0m \u001b[1m42s\u001b[0m 387ms/step - accuracy: 0.5099 - loss: 0.6930 - val_accuracy: 0.5082 - val_loss: 0.6930\n",
            "Epoch 4/10\n",
            "\u001b[1m80/80\u001b[0m \u001b[32m━━━━━━━━━━━━━━━━━━━━\u001b[0m\u001b[37m\u001b[0m \u001b[1m41s\u001b[0m 388ms/step - accuracy: 0.5084 - loss: 0.6930 - val_accuracy: 0.5082 - val_loss: 0.6930\n",
            "Epoch 5/10\n",
            "\u001b[1m80/80\u001b[0m \u001b[32m━━━━━━━━━━━━━━━━━━━━\u001b[0m\u001b[37m\u001b[0m \u001b[1m42s\u001b[0m 401ms/step - accuracy: 0.5174 - loss: 0.6927 - val_accuracy: 0.5082 - val_loss: 0.6930\n",
            "Epoch 6/10\n",
            "\u001b[1m80/80\u001b[0m \u001b[32m━━━━━━━━━━━━━━━━━━━━\u001b[0m\u001b[37m\u001b[0m \u001b[1m41s\u001b[0m 398ms/step - accuracy: 0.5122 - loss: 0.6929 - val_accuracy: 0.5082 - val_loss: 0.6930\n",
            "Epoch 7/10\n",
            "\u001b[1m80/80\u001b[0m \u001b[32m━━━━━━━━━━━━━━━━━━━━\u001b[0m\u001b[37m\u001b[0m \u001b[1m40s\u001b[0m 392ms/step - accuracy: 0.5023 - loss: 0.6932 - val_accuracy: 0.5082 - val_loss: 0.6930\n",
            "Epoch 8/10\n",
            "\u001b[1m80/80\u001b[0m \u001b[32m━━━━━━━━━━━━━━━━━━━━\u001b[0m\u001b[37m\u001b[0m \u001b[1m32s\u001b[0m 392ms/step - accuracy: 0.5183 - loss: 0.6927 - val_accuracy: 0.5082 - val_loss: 0.6930\n",
            "Epoch 9/10\n",
            "\u001b[1m80/80\u001b[0m \u001b[32m━━━━━━━━━━━━━━━━━━━━\u001b[0m\u001b[37m\u001b[0m \u001b[1m41s\u001b[0m 390ms/step - accuracy: 0.5147 - loss: 0.6928 - val_accuracy: 0.5082 - val_loss: 0.6930\n",
            "Epoch 10/10\n",
            "\u001b[1m80/80\u001b[0m \u001b[32m━━━━━━━━━━━━━━━━━━━━\u001b[0m\u001b[37m\u001b[0m \u001b[1m41s\u001b[0m 388ms/step - accuracy: 0.5089 - loss: 0.6930 - val_accuracy: 0.5082 - val_loss: 0.6930\n"
          ]
        }
      ]
    },
    {
      "cell_type": "code",
      "source": [
        "cnn_result = cnn.evaluate(x_test,y_test, verbose = 1)\n",
        "print(\"Test Accuracy:\", cnn_result[1])\n",
        "print(\"Test Loss:\", cnn_result[0])"
      ],
      "metadata": {
        "execution": {
          "iopub.status.busy": "2023-05-22T13:44:55.403904Z",
          "iopub.execute_input": "2023-05-22T13:44:55.404291Z",
          "iopub.status.idle": "2023-05-22T13:44:56.535891Z",
          "shell.execute_reply.started": "2023-05-22T13:44:55.404260Z",
          "shell.execute_reply": "2023-05-22T13:44:56.534862Z"
        },
        "trusted": true,
        "colab": {
          "base_uri": "https://localhost:8080/"
        },
        "id": "y3bJiw42I09c",
        "outputId": "316be94d-f5ed-446c-c847-b681b56f300d"
      },
      "execution_count": 57,
      "outputs": [
        {
          "output_type": "stream",
          "name": "stdout",
          "text": [
            "\u001b[1m100/100\u001b[0m \u001b[32m━━━━━━━━━━━━━━━━━━━━\u001b[0m\u001b[37m\u001b[0m \u001b[1m4s\u001b[0m 31ms/step - accuracy: 0.5122 - loss: 0.6929\n",
            "Test Accuracy: 0.4959374964237213\n",
            "Test Loss: 0.6934460401535034\n"
          ]
        }
      ]
    },
    {
      "cell_type": "code",
      "source": [
        "plt.figure(figsize=(12,6))\n",
        "epochs = range(1,11)\n",
        "plt.subplot(1,2,1)\n",
        "plt.plot(epochs,history_cnn.history[\"accuracy\"],color = 'green', marker = 'o')\n",
        "plt.plot(epochs,history_cnn.history[\"val_accuracy\"],color = 'red', marker = 'o')\n",
        "plt.title(\"Model Accuracy\")\n",
        "plt.xlabel(\"Epochs\",color = 'black')\n",
        "plt.ylabel(\"Accuracy\",color = 'black')\n",
        "plt.legend(['Train','Val'],loc = \"upper left\")\n",
        "\n",
        "plt.subplot(1,2,2)\n",
        "plt.plot(epochs,history_cnn.history[\"loss\"],color = 'green', marker = 'o')\n",
        "plt.plot(epochs,history_cnn.history[\"val_loss\"],color = 'red', marker = 'o')\n",
        "plt.title(\"Model Loss\")\n",
        "plt.xlabel(\"Epochs\",color = 'black')\n",
        "plt.ylabel(\"Loss\",color = 'black')\n",
        "plt.legend(['Train','Val'],loc = \"upper left\")\n",
        "\n",
        "plt.show()"
      ],
      "metadata": {
        "execution": {
          "iopub.status.busy": "2023-05-22T13:44:58.400128Z",
          "iopub.execute_input": "2023-05-22T13:44:58.400491Z",
          "iopub.status.idle": "2023-05-22T13:44:58.853008Z",
          "shell.execute_reply.started": "2023-05-22T13:44:58.400464Z",
          "shell.execute_reply": "2023-05-22T13:44:58.852133Z"
        },
        "trusted": true,
        "colab": {
          "base_uri": "https://localhost:8080/",
          "height": 569
        },
        "id": "q7qbgPwTI09c",
        "outputId": "360a916d-e89c-4937-97e4-7d591a60da32"
      },
      "execution_count": 58,
      "outputs": [
        {
          "output_type": "display_data",
          "data": {
            "text/plain": [
              "<Figure size 1200x600 with 2 Axes>"
            ],
            "image/png": "[encoded data removed]"
          },
          "metadata": {}
        }
      ]
    },
    {
      "cell_type": "markdown",
      "source": [
        "> LSTM"
      ],
      "metadata": {
        "id": "kmrmRs_lI09c"
      }
    },
    {
      "cell_type": "code",
      "source": [
        "lstm = Sequential()\n",
        "embedding_layer = Embedding(vocab_length, 100, weights = [embedding_matrix], input_length = maxlen, trainable = False)\n",
        "lstm.add(embedding_layer)\n",
        "lstm.add(LSTM(128)) #return_sequences=True\n",
        "# lstm.add(LSTM(64, return_sequences=True))\n",
        "\n",
        "# lstm.add(Dropout(0.2))\n",
        "# lstm.add(LSTM(32))\n",
        "\n",
        "\n",
        "# cnn.add(Conv1D(256,5,activation = 'relu'))\n",
        "# cnn.add(GlobalMaxPooling1D())\n",
        "\n",
        "lstm.add(Dense(1,activation = 'sigmoid'))"
      ],
      "metadata": {
        "execution": {
          "iopub.status.busy": "2023-05-22T13:48:17.172613Z",
          "iopub.execute_input": "2023-05-22T13:48:17.174040Z",
          "iopub.status.idle": "2023-05-22T13:48:17.546036Z",
          "shell.execute_reply.started": "2023-05-22T13:48:17.173996Z",
          "shell.execute_reply": "2023-05-22T13:48:17.545134Z"
        },
        "trusted": true,
        "id": "1CeNm4n_I09m"
      },
      "execution_count": 59,
      "outputs": []
    },
    {
      "cell_type": "code",
      "source": [
        "lstm.compile(optimizer='adam', loss = 'binary_crossentropy', metrics=['accuracy'])\n",
        "lstm.summary()"
      ],
      "metadata": {
        "execution": {
          "iopub.status.busy": "2023-05-22T13:48:19.185785Z",
          "iopub.execute_input": "2023-05-22T13:48:19.186763Z",
          "iopub.status.idle": "2023-05-22T13:48:19.212822Z",
          "shell.execute_reply.started": "2023-05-22T13:48:19.186717Z",
          "shell.execute_reply": "2023-05-22T13:48:19.212137Z"
        },
        "trusted": true,
        "colab": {
          "base_uri": "https://localhost:8080/",
          "height": 225
        },
        "id": "_FQw8IOZI09n",
        "outputId": "54c9d124-616a-4c8a-cf1c-0c829ea5edfe"
      },
      "execution_count": 60,
      "outputs": [
        {
          "output_type": "display_data",
          "data": {
            "text/plain": [
              "\u001b[1mModel: \"sequential_2\"\u001b[0m\n"
            ],
            "text/html": [
              "<pre style=\"white-space:pre;overflow-x:auto;line-height:normal;font-family:Menlo,'DejaVu Sans Mono',consolas,'Courier New',monospace\"><span style=\"font-weight: bold\">Model: \"sequential_2\"</span>\n",
              "</pre>\n"
            ]
          },
          "metadata": {}
        },
        {
          "output_type": "display_data",
          "data": {
            "text/plain": [
              "┏━━━━━━━━━━━━━━━━━━━━━━━━━━━━━━━━━┳━━━━━━━━━━━━━━━━━━━━━━━━┳━━━━━━━━━━━━━━━┓\n",
              "┃\u001b[1m \u001b[0m\u001b[1mLayer (type)                   \u001b[0m\u001b[1m \u001b[0m┃\u001b[1m \u001b[0m\u001b[1mOutput Shape          \u001b[0m\u001b[1m \u001b[0m┃\u001b[1m \u001b[0m\u001b[1m      Param #\u001b[0m\u001b[1m \u001b[0m┃\n",
              "┡━━━━━━━━━━━━━━━━━━━━━━━━━━━━━━━━━╇━━━━━━━━━━━━━━━━━━━━━━━━╇━━━━━━━━━━━━━━━┩\n",
              "│ embedding_3 (\u001b[38;5;33mEmbedding\u001b[0m)         │ ?                      │     \u001b[38;5;34m5,773,600\u001b[0m │\n",
              "├─────────────────────────────────┼────────────────────────┼───────────────┤\n",
              "│ lstm (\u001b[38;5;33mLSTM\u001b[0m)                     │ ?                      │   \u001b[38;5;34m0\u001b[0m (unbuilt) │\n",
              "├─────────────────────────────────┼────────────────────────┼───────────────┤\n",
              "│ dense_3 (\u001b[38;5;33mDense\u001b[0m)                 │ ?                      │   \u001b[38;5;34m0\u001b[0m (unbuilt) │\n",
              "└─────────────────────────────────┴────────────────────────┴───────────────┘\n"
            ],
            "text/html": [
              "<pre style=\"white-space:pre;overflow-x:auto;line-height:normal;font-family:Menlo,'DejaVu Sans Mono',consolas,'Courier New',monospace\">┏━━━━━━━━━━━━━━━━━━━━━━━━━━━━━━━━━┳━━━━━━━━━━━━━━━━━━━━━━━━┳━━━━━━━━━━━━━━━┓\n",
              "┃<span style=\"font-weight: bold\"> Layer (type)                    </span>┃<span style=\"font-weight: bold\"> Output Shape           </span>┃<span style=\"font-weight: bold\">       Param # </span>┃\n",
              "┡━━━━━━━━━━━━━━━━━━━━━━━━━━━━━━━━━╇━━━━━━━━━━━━━━━━━━━━━━━━╇━━━━━━━━━━━━━━━┩\n",
              "│ embedding_3 (<span style=\"color: #0087ff; text-decoration-color: #0087ff\">Embedding</span>)         │ ?                      │     <span style=\"color: #00af00; text-decoration-color: #00af00\">5,773,600</span> │\n",
              "├─────────────────────────────────┼────────────────────────┼───────────────┤\n",
              "│ lstm (<span style=\"color: #0087ff; text-decoration-color: #0087ff\">LSTM</span>)                     │ ?                      │   <span style=\"color: #00af00; text-decoration-color: #00af00\">0</span> (unbuilt) │\n",
              "├─────────────────────────────────┼────────────────────────┼───────────────┤\n",
              "│ dense_3 (<span style=\"color: #0087ff; text-decoration-color: #0087ff\">Dense</span>)                 │ ?                      │   <span style=\"color: #00af00; text-decoration-color: #00af00\">0</span> (unbuilt) │\n",
              "└─────────────────────────────────┴────────────────────────┴───────────────┘\n",
              "</pre>\n"
            ]
          },
          "metadata": {}
        },
        {
          "output_type": "display_data",
          "data": {
            "text/plain": [
              "\u001b[1m Total params: \u001b[0m\u001b[38;5;34m5,773,600\u001b[0m (22.02 MB)\n"
            ],
            "text/html": [
              "<pre style=\"white-space:pre;overflow-x:auto;line-height:normal;font-family:Menlo,'DejaVu Sans Mono',consolas,'Courier New',monospace\"><span style=\"font-weight: bold\"> Total params: </span><span style=\"color: #00af00; text-decoration-color: #00af00\">5,773,600</span> (22.02 MB)\n",
              "</pre>\n"
            ]
          },
          "metadata": {}
        },
        {
          "output_type": "display_data",
          "data": {
            "text/plain": [
              "\u001b[1m Trainable params: \u001b[0m\u001b[38;5;34m0\u001b[0m (0.00 B)\n"
            ],
            "text/html": [
              "<pre style=\"white-space:pre;overflow-x:auto;line-height:normal;font-family:Menlo,'DejaVu Sans Mono',consolas,'Courier New',monospace\"><span style=\"font-weight: bold\"> Trainable params: </span><span style=\"color: #00af00; text-decoration-color: #00af00\">0</span> (0.00 B)\n",
              "</pre>\n"
            ]
          },
          "metadata": {}
        },
        {
          "output_type": "display_data",
          "data": {
            "text/plain": [
              "\u001b[1m Non-trainable params: \u001b[0m\u001b[38;5;34m5,773,600\u001b[0m (22.02 MB)\n"
            ],
            "text/html": [
              "<pre style=\"white-space:pre;overflow-x:auto;line-height:normal;font-family:Menlo,'DejaVu Sans Mono',consolas,'Courier New',monospace\"><span style=\"font-weight: bold\"> Non-trainable params: </span><span style=\"color: #00af00; text-decoration-color: #00af00\">5,773,600</span> (22.02 MB)\n",
              "</pre>\n"
            ]
          },
          "metadata": {}
        }
      ]
    },
    {
      "cell_type": "code",
      "source": [
        "history_lstm = lstm.fit(x_train,y_train, batch_size=128, epochs = 10,\n",
        "                      verbose=1, validation_split =0.2)"
      ],
      "metadata": {
        "execution": {
          "iopub.status.busy": "2023-05-22T13:48:29.120851Z",
          "iopub.execute_input": "2023-05-22T13:48:29.121246Z",
          "iopub.status.idle": "2023-05-22T13:49:04.564668Z",
          "shell.execute_reply.started": "2023-05-22T13:48:29.121214Z",
          "shell.execute_reply": "2023-05-22T13:49:04.563724Z"
        },
        "trusted": true,
        "colab": {
          "base_uri": "https://localhost:8080/"
        },
        "id": "-2QwHtVuI09n",
        "outputId": "fffb7b09-4a8a-4967-ddce-65e64c51067d"
      },
      "execution_count": 61,
      "outputs": [
        {
          "output_type": "stream",
          "name": "stdout",
          "text": [
            "Epoch 1/10\n",
            "\u001b[1m80/80\u001b[0m \u001b[32m━━━━━━━━━━━━━━━━━━━━\u001b[0m\u001b[37m\u001b[0m \u001b[1m32s\u001b[0m 358ms/step - accuracy: 0.5136 - loss: 0.6931 - val_accuracy: 0.5082 - val_loss: 0.6930\n",
            "Epoch 2/10\n",
            "\u001b[1m80/80\u001b[0m \u001b[32m━━━━━━━━━━━━━━━━━━━━\u001b[0m\u001b[37m\u001b[0m \u001b[1m26s\u001b[0m 320ms/step - accuracy: 0.5129 - loss: 0.6930 - val_accuracy: 0.5082 - val_loss: 0.6930\n",
            "Epoch 3/10\n",
            "\u001b[1m80/80\u001b[0m \u001b[32m━━━━━━━━━━━━━━━━━━━━\u001b[0m\u001b[37m\u001b[0m \u001b[1m39s\u001b[0m 298ms/step - accuracy: 0.5110 - loss: 0.6930 - val_accuracy: 0.5082 - val_loss: 0.6930\n",
            "Epoch 4/10\n",
            "\u001b[1m80/80\u001b[0m \u001b[32m━━━━━━━━━━━━━━━━━━━━\u001b[0m\u001b[37m\u001b[0m \u001b[1m44s\u001b[0m 335ms/step - accuracy: 0.5094 - loss: 0.6930 - val_accuracy: 0.5082 - val_loss: 0.6930\n",
            "Epoch 5/10\n",
            "\u001b[1m80/80\u001b[0m \u001b[32m━━━━━━━━━━━━━━━━━━━━\u001b[0m\u001b[37m\u001b[0m \u001b[1m24s\u001b[0m 296ms/step - accuracy: 0.5130 - loss: 0.6929 - val_accuracy: 0.5082 - val_loss: 0.6930\n",
            "Epoch 6/10\n",
            "\u001b[1m80/80\u001b[0m \u001b[32m━━━━━━━━━━━━━━━━━━━━\u001b[0m\u001b[37m\u001b[0m \u001b[1m26s\u001b[0m 322ms/step - accuracy: 0.5138 - loss: 0.6929 - val_accuracy: 0.5082 - val_loss: 0.6930\n",
            "Epoch 7/10\n",
            "\u001b[1m80/80\u001b[0m \u001b[32m━━━━━━━━━━━━━━━━━━━━\u001b[0m\u001b[37m\u001b[0m \u001b[1m27s\u001b[0m 340ms/step - accuracy: 0.5180 - loss: 0.6927 - val_accuracy: 0.5082 - val_loss: 0.6930\n",
            "Epoch 8/10\n",
            "\u001b[1m80/80\u001b[0m \u001b[32m━━━━━━━━━━━━━━━━━━━━\u001b[0m\u001b[37m\u001b[0m \u001b[1m41s\u001b[0m 335ms/step - accuracy: 0.5139 - loss: 0.6929 - val_accuracy: 0.5082 - val_loss: 0.6930\n",
            "Epoch 9/10\n",
            "\u001b[1m80/80\u001b[0m \u001b[32m━━━━━━━━━━━━━━━━━━━━\u001b[0m\u001b[37m\u001b[0m \u001b[1m41s\u001b[0m 330ms/step - accuracy: 0.5111 - loss: 0.6930 - val_accuracy: 0.5082 - val_loss: 0.6930\n",
            "Epoch 10/10\n",
            "\u001b[1m80/80\u001b[0m \u001b[32m━━━━━━━━━━━━━━━━━━━━\u001b[0m\u001b[37m\u001b[0m \u001b[1m39s\u001b[0m 300ms/step - accuracy: 0.5177 - loss: 0.6928 - val_accuracy: 0.5082 - val_loss: 0.6930\n"
          ]
        }
      ]
    },
    {
      "cell_type": "code",
      "source": [
        "lstm_result = lstm.evaluate(x_test,y_test, verbose = 1)\n",
        "print(\"Test Accuracy:\", lstm_result[1])\n",
        "print(\"Test Loss:\", lstm_result[0])"
      ],
      "metadata": {
        "execution": {
          "iopub.status.busy": "2023-05-22T13:49:52.951664Z",
          "iopub.execute_input": "2023-05-22T13:49:52.952015Z",
          "iopub.status.idle": "2023-05-22T13:49:54.503740Z",
          "shell.execute_reply.started": "2023-05-22T13:49:52.951985Z",
          "shell.execute_reply": "2023-05-22T13:49:54.502743Z"
        },
        "trusted": true,
        "colab": {
          "base_uri": "https://localhost:8080/"
        },
        "id": "sz-DPizVI09n",
        "outputId": "24456bbf-e9ee-4f66-de86-2e28c088a396"
      },
      "execution_count": 62,
      "outputs": [
        {
          "output_type": "stream",
          "name": "stdout",
          "text": [
            "\u001b[1m100/100\u001b[0m \u001b[32m━━━━━━━━━━━━━━━━━━━━\u001b[0m\u001b[37m\u001b[0m \u001b[1m7s\u001b[0m 67ms/step - accuracy: 0.5122 - loss: 0.6929\n",
            "Test Accuracy: 0.4959374964237213\n",
            "Test Loss: 0.6932910680770874\n"
          ]
        }
      ]
    },
    {
      "cell_type": "code",
      "source": [
        "plt.figure(figsize=(12,6))\n",
        "epochs = range(1, 11)\n",
        "plt.subplot(1,2,1)\n",
        "plt.plot(epochs,history_lstm.history[\"accuracy\"],color = 'green', marker = 'o')\n",
        "plt.plot(epochs,history_lstm.history[\"val_accuracy\"],color = 'red', marker = 'o')\n",
        "plt.title(\"Model Accuracy\")\n",
        "plt.xlabel(\"Epochs\",color = 'black')\n",
        "plt.ylabel(\"Accuracy\",color = 'black')\n",
        "plt.legend(['Train','Val'],loc = \"upper left\")\n",
        "\n",
        "plt.subplot(1,2,2)\n",
        "plt.plot(epochs,history_lstm.history[\"loss\"],color = 'green', marker = 'o')\n",
        "plt.plot(epochs,history_lstm.history[\"val_loss\"],color = 'red', marker = 'o')\n",
        "plt.title(\"Model Loss\")\n",
        "plt.xlabel(\"Epochs\",color = 'black')\n",
        "plt.ylabel(\"Loss\",color = 'black')\n",
        "plt.legend(['Train','Val'],loc = \"upper left\")\n",
        "\n",
        "plt.show()"
      ],
      "metadata": {
        "execution": {
          "iopub.status.busy": "2023-05-22T13:51:20.058723Z",
          "iopub.execute_input": "2023-05-22T13:51:20.059078Z",
          "iopub.status.idle": "2023-05-22T13:51:20.497961Z",
          "shell.execute_reply.started": "2023-05-22T13:51:20.059048Z",
          "shell.execute_reply": "2023-05-22T13:51:20.497084Z"
        },
        "trusted": true,
        "colab": {
          "base_uri": "https://localhost:8080/",
          "height": 569
        },
        "id": "f6OeXcr_I09n",
        "outputId": "cedbe6ab-b50d-42b9-f05a-477c5962946f"
      },
      "execution_count": 63,
      "outputs": [
        {
          "output_type": "display_data",
          "data": {
            "text/plain": [
              "<Figure size 1200x600 with 2 Axes>"
            ],
            "image/png": "[encoded data removed]"
          },
          "metadata": {}
        }
      ]
    },
    {
      "cell_type": "code",
      "source": [
        "lstm.save(\"sentiment_classifier2.h5\")"
      ],
      "metadata": {
        "execution": {
          "iopub.status.busy": "2023-05-22T13:52:15.685708Z",
          "iopub.execute_input": "2023-05-22T13:52:15.686100Z",
          "iopub.status.idle": "2023-05-22T13:52:15.804736Z",
          "shell.execute_reply.started": "2023-05-22T13:52:15.686066Z",
          "shell.execute_reply": "2023-05-22T13:52:15.803643Z"
        },
        "trusted": true,
        "colab": {
          "base_uri": "https://localhost:8080/"
        },
        "id": "G3RgGKUUI09n",
        "outputId": "016aa316-9fe5-4d01-bc9d-be3232f09f95"
      },
      "execution_count": 64,
      "outputs": [
        {
          "output_type": "stream",
          "name": "stderr",
          "text": [
            "WARNING:absl:You are saving your model as an HDF5 file via `model.save()` or `keras.saving.save_model(model)`. This file format is considered legacy. We recommend using instead the native Keras format, e.g. `model.save('my_model.keras')` or `keras.saving.save_model(model, 'my_model.keras')`. \n"
          ]
        }
      ]
    },
    {
      "cell_type": "code",
      "source": [],
      "metadata": {
        "id": "l8-SeOzuI09n"
      },
      "execution_count": null,
      "outputs": []
    }
  ]
}