{
  "nbformat": 4,
  "nbformat_minor": 0,
  "metadata": {
    "colab": {
      "provenance": []
    },
    "kernelspec": {
      "name": "python3",
      "display_name": "Python 3"
    },
    "language_info": {
      "name": "python"
    }
  },
  "cells": [
    {
      "cell_type": "code",
      "execution_count": 2,
      "metadata": {
        "colab": {
          "base_uri": "https://localhost:8080/"
        },
        "id": "_JN5zs2DVIiI",
        "outputId": "323b1544-f7d0-4d0b-d646-5cbd9ea9c49a"
      },
      "outputs": [
        {
          "output_type": "stream",
          "name": "stderr",
          "text": [
            "[nltk_data] Downloading package punkt to /root/nltk_data...\n",
            "[nltk_data]   Unzipping tokenizers/punkt.zip.\n"
          ]
        },
        {
          "output_type": "execute_result",
          "data": {
            "text/plain": [
              "True"
            ]
          },
          "metadata": {},
          "execution_count": 2
        }
      ],
      "source": [
        "import tensorflow as tf\n",
        "from tensorflow.keras.datasets import imdb\n",
        "from tensorflow.keras.preprocessing.sequence import pad_sequences\n",
        "from tensorflow.keras.models import Sequential\n",
        "from tensorflow.keras.layers import Embedding, LSTM, Dense\n",
        "import nltk\n",
        "nltk.download('punkt')\n"
      ]
    },
    {
      "cell_type": "code",
      "source": [
        "# Load the IMDB dataset with top 10,000 frequent words\n",
        "vocab_size = 10000\n",
        "maxlen = 200\n",
        "\n",
        "(x_train, y_train), (x_test, y_test) = imdb.load_data(num_words=vocab_size)\n",
        "\n",
        "# Pad sequences\n",
        "x_train = pad_sequences(x_train, maxlen=maxlen)\n",
        "x_test = pad_sequences(x_test, maxlen=maxlen)\n"
      ],
      "metadata": {
        "colab": {
          "base_uri": "https://localhost:8080/"
        },
        "id": "njxjyEUoaGzD",
        "outputId": "3b36a15c-91df-41a8-9cc8-4523519d5230"
      },
      "execution_count": 3,
      "outputs": [
        {
          "output_type": "stream",
          "name": "stdout",
          "text": [
            "Downloading data from https://storage.googleapis.com/tensorflow/tf-keras-datasets/imdb.npz\n",
            "\u001b[1m17464789/17464789\u001b[0m \u001b[32m━━━━━━━━━━━━━━━━━━━━\u001b[0m\u001b[37m\u001b[0m \u001b[1m0s\u001b[0m 0us/step\n"
          ]
        }
      ]
    },
    {
      "cell_type": "code",
      "source": [
        "model = Sequential([\n",
        "    Embedding(input_dim=vocab_size, output_dim=128, input_length=maxlen),\n",
        "    LSTM(64),\n",
        "    Dense(1, activation='sigmoid')\n",
        "])\n"
      ],
      "metadata": {
        "colab": {
          "base_uri": "https://localhost:8080/"
        },
        "id": "rTEIwEPKaMQF",
        "outputId": "959e437c-4172-4c87-913b-9d0267719ba5"
      },
      "execution_count": 4,
      "outputs": [
        {
          "output_type": "stream",
          "name": "stderr",
          "text": [
            "/usr/local/lib/python3.11/dist-packages/keras/src/layers/core/embedding.py:90: UserWarning: Argument `input_length` is deprecated. Just remove it.\n",
            "  warnings.warn(\n"
          ]
        }
      ]
    },
    {
      "cell_type": "code",
      "source": [
        "model.compile(loss='binary_crossentropy', optimizer='adam', metrics=['accuracy'])\n"
      ],
      "metadata": {
        "id": "0hf1mw_LaShA"
      },
      "execution_count": 5,
      "outputs": []
    },
    {
      "cell_type": "code",
      "source": [
        "model.fit(x_train, y_train, epochs=5, batch_size=64, validation_split=0.2)\n"
      ],
      "metadata": {
        "colab": {
          "base_uri": "https://localhost:8080/"
        },
        "id": "wMEtpupwaVvx",
        "outputId": "3c8dab94-5261-4107-f304-e9f6044c0de8"
      },
      "execution_count": 6,
      "outputs": [
        {
          "output_type": "stream",
          "name": "stdout",
          "text": [
            "Epoch 1/5\n",
            "\u001b[1m313/313\u001b[0m \u001b[32m━━━━━━━━━━━━━━━━━━━━\u001b[0m\u001b[37m\u001b[0m \u001b[1m104s\u001b[0m 323ms/step - accuracy: 0.7129 - loss: 0.5352 - val_accuracy: 0.8618 - val_loss: 0.3313\n",
            "Epoch 2/5\n",
            "\u001b[1m313/313\u001b[0m \u001b[32m━━━━━━━━━━━━━━━━━━━━\u001b[0m\u001b[37m\u001b[0m \u001b[1m141s\u001b[0m 321ms/step - accuracy: 0.8954 - loss: 0.2651 - val_accuracy: 0.8572 - val_loss: 0.3429\n",
            "Epoch 3/5\n",
            "\u001b[1m313/313\u001b[0m \u001b[32m━━━━━━━━━━━━━━━━━━━━\u001b[0m\u001b[37m\u001b[0m \u001b[1m138s\u001b[0m 309ms/step - accuracy: 0.9321 - loss: 0.1783 - val_accuracy: 0.8702 - val_loss: 0.3261\n",
            "Epoch 4/5\n",
            "\u001b[1m313/313\u001b[0m \u001b[32m━━━━━━━━━━━━━━━━━━━━\u001b[0m\u001b[37m\u001b[0m \u001b[1m100s\u001b[0m 321ms/step - accuracy: 0.9479 - loss: 0.1430 - val_accuracy: 0.8614 - val_loss: 0.3848\n",
            "Epoch 5/5\n",
            "\u001b[1m313/313\u001b[0m \u001b[32m━━━━━━━━━━━━━━━━━━━━\u001b[0m\u001b[37m\u001b[0m \u001b[1m97s\u001b[0m 308ms/step - accuracy: 0.9692 - loss: 0.0914 - val_accuracy: 0.8696 - val_loss: 0.3913\n"
          ]
        },
        {
          "output_type": "execute_result",
          "data": {
            "text/plain": [
              "<keras.src.callbacks.history.History at 0x7ccf03ecbad0>"
            ]
          },
          "metadata": {},
          "execution_count": 6
        }
      ]
    },
    {
      "cell_type": "code",
      "source": [
        "loss, accuracy = model.evaluate(x_test, y_test)\n",
        "print(f'Test Accuracy: {accuracy:.2f}')\n"
      ],
      "metadata": {
        "colab": {
          "base_uri": "https://localhost:8080/"
        },
        "id": "9GKUgOHstqpu",
        "outputId": "0211b7b7-4869-4dfa-e834-4a0484a462c3"
      },
      "execution_count": 7,
      "outputs": [
        {
          "output_type": "stream",
          "name": "stdout",
          "text": [
            "\u001b[1m782/782\u001b[0m \u001b[32m━━━━━━━━━━━━━━━━━━━━\u001b[0m\u001b[37m\u001b[0m \u001b[1m31s\u001b[0m 40ms/step - accuracy: 0.8532 - loss: 0.4347\n",
            "Test Accuracy: 0.86\n"
          ]
        }
      ]
    },
    {
      "cell_type": "code",
      "source": [
        "from tensorflow.keras.preprocessing.text import Tokenizer\n",
        "from tensorflow.keras.preprocessing.sequence import pad_sequences\n",
        "import json\n"
      ],
      "metadata": {
        "id": "AoTdK6n5BqZ4"
      },
      "execution_count": 24,
      "outputs": []
    },
    {
      "cell_type": "code",
      "source": [
        "\n",
        "texts = [\n",
        "    \"Intelligent Movie. This movie is obviously allegorical, a fascinating tale about AI, but it is mainly about manipulation and power. It isn't for those wanting action or spectacular CGI, the movie is aimed at people who like to think, rather than passively wait to be entertained. There are themes here not only about AI, but also about surveillance, with excellent points about how data about us is collected by phone companies, search engine companies, commercial operating systems makers and so on. The plot seems simple but isn't, it's extremely clever, with the protagonist playing games, trying to stay one step ahead of one another. This is a movie with perfectly consistent internal logic that plays out perfectly. Don't go in expecting too much, however, as I can see most people will not be satisfied by this movie, but for me, it does what it sets out to do brilliantly. Therefore I give at least 9/10. And most recent movies have been getting 5/10 from me. This movie succeeds where another recent movie about AI, Transcendence, I think it is called, failed (but it was an interesting failure). A third movie about AI, a Spanish movie called Eva, was also brilliant. Eva was more moving and this movie more philosophical. But both movies were perfect in their different ways. The AI's name in this movie, Ava, seems to be a nod to the title of the Spanish movie. As an aside, it's nice that no \\\"stars\\\" appeared in \\\"Ex Machina\\\" and \\\"Eva\\\", the casting was great. Of course there are several aspects of this movie that are unrealistic and often absurd. But because this is an allegorical movie, these are acceptable, because the movie is making points, rather than striving for realism. It's more of a fairytale than accurate portrayal.\",\n",
        "    \"Amazing visuals and philosophical concepts! Not only is the Eternals a visual masterpiece, the inner challenges each of the eternals face is a great signifier of the MCU moving into a more mature, meaningful phase. When you look deeper into the plot and each events significance, and appreciate the detail put into a timeline that spans thousands of years, the low underwhelming ratings seem obviously out of place. And despite the fact that many people loved the MCU as a couple of buff guys and over-sexualised women, the transition the MCU is going through is inevitable, as a franchise that has supported generations, and quite frankly awesome. Besides from the stunning visuals and deep undertones Chloe Zhao certainly packs in enough fight scenes as possibly needed. Each eternal represents a unique power, connected through their source of cosmic energy. This variability allows for exhilarating fight scenes that are arguably more interesting than a couple of punches, kicks and the stray flying weapon. The love stories are quaint and meaningful, and certainly don't take up too much of the run time. Overall, the new age of maturity and deeper concepts seen in this movie is most definitely something to look forward to in Phase 4!\",\n",
        "    \"Worst MCU film ever Following the events of Avengers: Endgame (2019), an unexpected tragedy forces the Eternals, ancient aliens who have been living on Earth in secret for thousands of years, out of the shadows to reunite against mankind's most ancient enemy, the Deviants. This film is by far the worst MCU film I have watch. It's massive insuylt to the comics from the Jack Kirby days. Gender swapping some of the eternals, bad story telling which makes absolutely no sense, unlikeable characters, little to no action and ridicules changes to the MCU just sum up how bad this film. Completely ruined Endgame The only goods were the music and the CGI for Arishen as well as bonus points for being voiced by David Kaye. Other then that it's just not a good movie makes both Captain Marvel and Iron Man 3 look good.\",\n",
        "]\n",
        "\n",
        "texts = [\n",
        "    \"Intelligent Movie. This movie is obviously allegorical, a fascinating tale about AI, but it is mainly about manipulation and power. It isn't for those wanting action or spectacular CGI, the movie is aimed at people who like to think, rather than passively wait to be entertained. There are themes here not only about AI, but also about surveillance, with excellent points about how data about us is collected by phone companies, search engine companies, commercial operating systems makers and so on. The plot seems simple but isn't, it's extremely clever, with the protagonist playing games, trying to stay one step ahead of one another. This is a movie with perfectly consistent internal logic that plays out perfectly. Don't go in expecting too much, however, as I can see most people will not be satisfied by this movie, but for me, it does what it sets out to do brilliantly. Therefore I give at least 9/10. And most recent movies have been getting 5/10 from me. This movie succeeds where another recent movie about AI, Transcendence, I think it is called, failed (but it was an interesting failure). A third movie about AI, a Spanish movie called Eva, was also brilliant. Eva was more moving and this movie more philosophical. But both movies were perfect in their different ways. The AI's name in this movie, Ava, seems to be a nod to the title of the Spanish movie. As an aside, it's nice that no \\\"stars\\\" appeared in \\\"Ex Machina\\\" and \\\"Eva\\\", the casting was great. Of course there are several aspects of this movie that are unrealistic and often absurd. But because this is an allegorical movie, these are acceptable, because the movie is making points, rather than striving for realism. It's more of a fairytale than accurate portrayal.\",\n",
        "    \"Amazing visuals and philosophical concepts! Not only is the Eternals a visual masterpiece, the inner challenges each of the eternals face is a great signifier of the MCU moving into a more mature, meaningful phase. When you look deeper into the plot and each events significance, and appreciate the detail put into a timeline that spans thousands of years, the low underwhelming ratings seem obviously out of place. And despite the fact that many people loved the MCU as a couple of buff guys and over-sexualised women, the transition the MCU is going through is inevitable, as a franchise that has supported generations, and quite frankly awesome. Besides from the stunning visuals and deep undertones Chloe Zhao certainly packs in enough fight scenes as possibly needed. Each eternal represents a unique power, connected through their source of cosmic energy. This variability allows for exhilarating fight scenes that are arguably more interesting than a couple of punches, kicks and the stray flying weapon. The love stories are quaint and meaningful, and certainly don't take up too much of the run time. Overall, the new age of maturity and deeper concepts seen in this movie is most definitely something to look forward to in Phase 4!\",\n",
        "    \"Worst MCU film ever Following the events of Avengers: Endgame (2019), an unexpected tragedy forces the Eternals, ancient aliens who have been living on Earth in secret for thousands of years, out of the shadows to reunite against mankind's most ancient enemy, the Deviants. This film is by far the worst MCU film I have watch. It's massive insuylt to the comics from the Jack Kirby days. Gender swapping some of the eternals, bad story telling which makes absolutely no sense, unlikeable characters, little to no action and ridicules changes to the MCU just sum up how bad this film. Completely ruined Endgame The only goods were the music and the CGI for Arishen as well as bonus points for being voiced by David Kaye. Other then that it's just not a good movie makes both Captain Marvel and Iron Man 3 look good.\",\n",
        "]\n",
        "\n",
        "labels = [1, 0, 0]  # 1 = positive, 0 = negative\n"
      ],
      "metadata": {
        "id": "7VGnO_opBs-U"
      },
      "execution_count": 29,
      "outputs": []
    },
    {
      "cell_type": "code",
      "source": [
        "\n",
        "max_words = 10000\n",
        "\n",
        "tokenizer = Tokenizer(num_words=max_words, oov_token=\"<OOV>\")\n",
        "tokenizer.fit_on_texts(texts)\n"
      ],
      "metadata": {
        "id": "MNeiHGIxCVkL"
      },
      "execution_count": 31,
      "outputs": []
    },
    {
      "cell_type": "code",
      "source": [
        "sequences = tokenizer.texts_to_sequences(texts)\n",
        "print(sequences)\n"
      ],
      "metadata": {
        "colab": {
          "base_uri": "https://localhost:8080/"
        },
        "id": "-MpoiQe_Cg24",
        "outputId": "d2dff3f2-8706-46b0-e274-eac5a90c53e1"
      },
      "execution_count": 32,
      "outputs": [
        {
          "output_type": "stream",
          "name": "stdout",
          "text": [
            "[[103, 5, 8, 5, 7, 44, 45, 6, 104, 105, 10, 21, 13, 16, 7, 106, 10, 107, 3, 46, 16, 47, 14, 108, 109, 48, 110, 111, 49, 2, 5, 7, 112, 50, 32, 51, 113, 9, 52, 53, 22, 114, 115, 9, 33, 116, 54, 17, 117, 118, 23, 34, 10, 21, 13, 55, 10, 119, 35, 120, 36, 10, 56, 121, 10, 122, 7, 123, 24, 124, 57, 125, 126, 57, 127, 128, 129, 130, 3, 131, 58, 2, 59, 60, 132, 13, 47, 19, 133, 134, 35, 2, 135, 136, 137, 138, 9, 139, 61, 140, 141, 4, 61, 62, 8, 7, 6, 5, 35, 63, 142, 143, 144, 11, 145, 25, 63, 64, 146, 12, 147, 65, 66, 148, 15, 26, 149, 150, 27, 32, 151, 23, 33, 152, 24, 8, 5, 13, 14, 67, 16, 153, 154, 16, 155, 25, 9, 156, 157, 158, 26, 159, 50, 160, 161, 68, 3, 27, 69, 70, 37, 71, 162, 163, 68, 38, 67, 8, 5, 164, 165, 62, 69, 5, 10, 21, 166, 26, 52, 16, 7, 72, 167, 13, 16, 28, 29, 73, 168, 6, 169, 5, 10, 21, 6, 74, 5, 72, 39, 28, 55, 170, 39, 28, 20, 75, 3, 8, 5, 20, 76, 13, 77, 70, 78, 171, 12, 79, 172, 173, 2, 174, 175, 12, 8, 5, 176, 60, 9, 33, 6, 177, 9, 2, 178, 4, 2, 74, 5, 15, 29, 179, 19, 180, 11, 40, 181, 182, 12, 183, 184, 3, 39, 2, 185, 28, 80, 4, 186, 54, 17, 187, 188, 4, 8, 5, 11, 17, 189, 3, 190, 191, 13, 81, 8, 7, 29, 45, 5, 192, 17, 193, 81, 2, 5, 7, 194, 36, 53, 22, 195, 14, 196, 19, 20, 4, 6, 197, 22, 198, 199], [200, 82, 3, 76, 83, 23, 34, 7, 2, 30, 6, 201, 202, 2, 203, 204, 41, 4, 2, 30, 205, 7, 6, 80, 206, 4, 2, 18, 75, 42, 6, 20, 207, 84, 85, 208, 209, 43, 86, 42, 2, 59, 3, 41, 87, 210, 3, 211, 2, 212, 213, 42, 6, 214, 11, 215, 88, 4, 89, 2, 216, 217, 218, 219, 44, 25, 4, 220, 3, 221, 2, 222, 11, 223, 32, 224, 2, 18, 15, 6, 90, 4, 225, 226, 3, 227, 228, 229, 2, 230, 2, 18, 7, 231, 91, 7, 232, 15, 6, 233, 11, 234, 235, 236, 3, 237, 238, 239, 240, 38, 2, 241, 82, 3, 242, 243, 244, 245, 92, 246, 12, 247, 93, 94, 15, 248, 249, 41, 250, 251, 6, 252, 46, 253, 91, 79, 254, 4, 255, 256, 8, 257, 258, 14, 259, 93, 94, 11, 17, 260, 20, 73, 22, 6, 90, 4, 261, 262, 3, 2, 263, 264, 265, 2, 266, 267, 17, 268, 3, 84, 3, 92, 64, 269, 95, 65, 66, 4, 2, 270, 271, 272, 2, 273, 274, 4, 275, 3, 86, 83, 276, 12, 8, 5, 7, 27, 277, 278, 9, 43, 279, 9, 12, 85, 280], [96, 18, 31, 281, 282, 2, 87, 4, 283, 97, 284, 29, 285, 286, 287, 2, 30, 98, 288, 51, 37, 71, 289, 58, 290, 12, 291, 14, 88, 4, 89, 25, 4, 2, 292, 9, 293, 294, 295, 27, 98, 296, 2, 297, 8, 31, 7, 24, 298, 2, 96, 18, 31, 26, 37, 299, 19, 300, 301, 9, 2, 302, 38, 2, 303, 304, 305, 306, 307, 308, 4, 2, 30, 99, 309, 310, 311, 100, 312, 40, 313, 314, 315, 316, 9, 40, 48, 3, 317, 318, 9, 2, 18, 101, 319, 95, 56, 99, 8, 31, 320, 321, 97, 2, 34, 322, 78, 2, 323, 3, 2, 49, 14, 324, 15, 325, 15, 326, 36, 14, 327, 328, 24, 329, 330, 331, 332, 11, 19, 101, 23, 6, 102, 5, 100, 77, 333, 334, 3, 335, 336, 337, 43, 102]]\n"
          ]
        }
      ]
    },
    {
      "cell_type": "code",
      "source": [
        "max_len = 20  # max length of each sequence\n",
        "\n",
        "padded_sequences = pad_sequences(sequences, maxlen=max_len, padding='post')\n",
        "print(padded_sequences)\n"
      ],
      "metadata": {
        "colab": {
          "base_uri": "https://localhost:8080/"
        },
        "id": "l599gJBQCj60",
        "outputId": "2060e1c8-ba98-4cd8-fc3e-39bd4763bd6b"
      },
      "execution_count": 33,
      "outputs": [
        {
          "output_type": "stream",
          "name": "stdout",
          "text": [
            "[[193  81   2   5   7 194  36  53  22 195  14 196  19  20   4   6 197  22\n",
            "  198 199]\n",
            " [  4 275   3  86  83 276  12   8   5   7  27 277 278   9  43 279   9  12\n",
            "   85 280]\n",
            " [330 331 332  11  19 101  23   6 102   5 100  77 333 334   3 335 336 337\n",
            "   43 102]]\n"
          ]
        }
      ]
    },
    {
      "cell_type": "code",
      "source": [
        "# Save tokenizer to JSON file\n",
        "tokenizer_json = tokenizer.to_json()\n",
        "with open('tokenizer.json', 'w') as f:\n",
        "    f.write(tokenizer_json)\n"
      ],
      "metadata": {
        "id": "uP7Us_ocCntu"
      },
      "execution_count": 34,
      "outputs": []
    },
    {
      "cell_type": "code",
      "source": [
        "from tensorflow.keras.preprocessing.text import tokenizer_from_json\n",
        "\n",
        "with open('tokenizer.json') as f:\n",
        "    data = f.read()\n",
        "    tokenizer = tokenizer_from_json(data)\n"
      ],
      "metadata": {
        "id": "284sKDelC28V"
      },
      "execution_count": 35,
      "outputs": []
    },
    {
      "cell_type": "code",
      "source": [
        "from google.colab import files\n",
        "\n",
        "files.download('tokenizer.json')\n"
      ],
      "metadata": {
        "colab": {
          "base_uri": "https://localhost:8080/",
          "height": 17
        },
        "id": "q5sR0iehC5F0",
        "outputId": "16751372-34ac-46c0-9242-10dfd77a474d"
      },
      "execution_count": 36,
      "outputs": [
        {
          "output_type": "display_data",
          "data": {
            "text/plain": [
              "<IPython.core.display.Javascript object>"
            ],
            "application/javascript": [
              "\n",
              "    async function download(id, filename, size) {\n",
              "      if (!google.colab.kernel.accessAllowed) {\n",
              "        return;\n",
              "      }\n",
              "      const div = document.createElement('div');\n",
              "      const label = document.createElement('label');\n",
              "      label.textContent = `Downloading \"${filename}\": `;\n",
              "      div.appendChild(label);\n",
              "      const progress = document.createElement('progress');\n",
              "      progress.max = size;\n",
              "      div.appendChild(progress);\n",
              "      document.body.appendChild(div);\n",
              "\n",
              "      const buffers = [];\n",
              "      let downloaded = 0;\n",
              "\n",
              "      const channel = await google.colab.kernel.comms.open(id);\n",
              "      // Send a message to notify the kernel that we're ready.\n",
              "      channel.send({})\n",
              "\n",
              "      for await (const message of channel.messages) {\n",
              "        // Send a message to notify the kernel that we're ready.\n",
              "        channel.send({})\n",
              "        if (message.buffers) {\n",
              "          for (const buffer of message.buffers) {\n",
              "            buffers.push(buffer);\n",
              "            downloaded += buffer.byteLength;\n",
              "            progress.value = downloaded;\n",
              "          }\n",
              "        }\n",
              "      }\n",
              "      const blob = new Blob(buffers, {type: 'application/binary'});\n",
              "      const a = document.createElement('a');\n",
              "      a.href = window.URL.createObjectURL(blob);\n",
              "      a.download = filename;\n",
              "      div.appendChild(a);\n",
              "      a.click();\n",
              "      div.remove();\n",
              "    }\n",
              "  "
            ]
          },
          "metadata": {}
        },
        {
          "output_type": "display_data",
          "data": {
            "text/plain": [
              "<IPython.core.display.Javascript object>"
            ],
            "application/javascript": [
              "download(\"download_3181532a-ab72-4e1e-b0cb-084d68844339\", \"tokenizer.json\", 26632)"
            ]
          },
          "metadata": {}
        }
      ]
    },
    {
      "cell_type": "code",
      "source": [
        "sample_reviews = [\n",
        "    \"This movie was absolutely fantastic!\",\n",
        "    \"I hated every second of it.\",\n",
        "    \"The plot was boring, but the acting was great.\"\n",
        "]\n",
        "\n",
        "# Preprocess\n",
        "sample_sequences = tokenizer.texts_to_sequences(sample_reviews)\n",
        "padded = pad_sequences(sample_sequences, maxlen=200)\n",
        "\n",
        "# Predict\n",
        "predictions = model.predict(padded)\n",
        "for review, score in zip(sample_reviews, predictions):\n",
        "    sentiment = \"Positive\" if score > 0.5 else \"Negative\"\n",
        "    print(f\"Review: {review} — Sentiment: {sentiment} ({score[0]:.2f})\")\n"
      ],
      "metadata": {
        "colab": {
          "base_uri": "https://localhost:8080/"
        },
        "id": "E0tbXi5AEgL5",
        "outputId": "08000368-b0e3-4c49-ec75-a97c659b7a60"
      },
      "execution_count": 38,
      "outputs": [
        {
          "output_type": "stream",
          "name": "stdout",
          "text": [
            "\u001b[1m1/1\u001b[0m \u001b[32m━━━━━━━━━━━━━━━━━━━━\u001b[0m\u001b[37m\u001b[0m \u001b[1m0s\u001b[0m 285ms/step\n",
            "Review: This movie was absolutely fantastic! — Sentiment: Positive (0.62)\n",
            "Review: I hated every second of it. — Sentiment: Negative (0.26)\n",
            "Review: The plot was boring, but the acting was great. — Sentiment: Negative (0.42)\n"
          ]
        }
      ]
    }
  ]
}